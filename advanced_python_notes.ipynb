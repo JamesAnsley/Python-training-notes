{
  "nbformat": 4,
  "nbformat_minor": 0,
  "metadata": {
    "colab": {
      "name": "advanced-python-notes",
      "provenance": [],
      "toc_visible": true,
      "authorship_tag": "ABX9TyM3xdeEWOTdtQJq9QTqv8+5",
      "include_colab_link": true
    },
    "kernelspec": {
      "name": "python3",
      "display_name": "Python 3"
    }
  },
  "cells": [
    {
      "cell_type": "markdown",
      "metadata": {
        "id": "view-in-github",
        "colab_type": "text"
      },
      "source": [
        "<a href=\"https://colab.research.google.com/github/JamesAnsley/Python-training-notes/blob/master/advanced_python_notes.ipynb\" target=\"_parent\"><img src=\"https://colab.research.google.com/assets/colab-badge.svg\" alt=\"Open In Colab\"/></a>"
      ]
    },
    {
      "cell_type": "markdown",
      "metadata": {
        "id": "gGzqyfuf9V1T",
        "colab_type": "text"
      },
      "source": [
        "# Advanced Python topics"
      ]
    },
    {
      "cell_type": "markdown",
      "metadata": {
        "id": "Rcbj8DXD_PGg",
        "colab_type": "text"
      },
      "source": [
        "## Object orientend programming (OOP)\n",
        "\n",
        "Everything here is an object because in Python everything is built by this class keyword and we're able to use different methods on our objects like this to perform some actions on them.\n",
        "\n",
        "So what is an object?\n",
        "\n",
        "Objects have methods like these and attributes that you can access with the DOT method.\n",
        "\n",
        "Now Object Oriented Programming allows us to go beyond what Python just gives us which are these data types.\n",
        "\n",
        "Using OOP and the `class` keyword we can make python even more powerful by creating our own data types with their own attributes and methods.\n",
        "\n",
        "OOP is a paradigm: a way to think about our code and structure our code in easier to maintain, extend, and write.\n",
        "\n",
        "in OOP:\n",
        "**A class** is the the blueprint of what we want to create. What are the basic attributes that is properties that our class has? What are some basic methods or actions that our class can take? From that blueprint we can make different objects over and over again. Each instance of a **class** is an **object**\n"
      ]
    },
    {
      "cell_type": "code",
      "metadata": {
        "id": "QDU12u03_UDD",
        "colab_type": "code",
        "colab": {
          "base_uri": "https://localhost:8080/",
          "height": 158
        },
        "outputId": "12873c72-5730-4408-9061-c18161978b47"
      },
      "source": [
        "#OOP\n",
        "print(type(None))\n",
        "print(type(True))\n",
        "print(type(5))\n",
        "print(type(5.5))\n",
        "print(type('hihihi'))\n",
        "print(type([]))\n",
        "print(type(()))\n",
        "print(type({}))"
      ],
      "execution_count": null,
      "outputs": [
        {
          "output_type": "stream",
          "text": [
            "<class 'NoneType'>\n",
            "<class 'bool'>\n",
            "<class 'int'>\n",
            "<class 'float'>\n",
            "<class 'str'>\n",
            "<class 'list'>\n",
            "<class 'tuple'>\n",
            "<class 'dict'>\n"
          ],
          "name": "stdout"
        }
      ]
    },
    {
      "cell_type": "code",
      "metadata": {
        "id": "qS5k0UEiAl29",
        "colab_type": "code",
        "colab": {
          "base_uri": "https://localhost:8080/",
          "height": 193
        },
        "outputId": "9b3bc2e7-5f28-4bb3-8e45-0e7e744c6aeb"
      },
      "source": [
        "#Lets make a new class: BigObject\n",
        "\n",
        "class BigObject: #create the class\n",
        "  #code goes here\n",
        "  pass\n",
        "\n",
        "obj1 = BigObject() #instanciating the class as an object\n",
        "obj2 = BigObject()\n",
        "obj3 = BigObject()\n",
        "\n",
        "print(type(None))\n",
        "print(type(True))\n",
        "print(type(5))\n",
        "print(type(5.5))\n",
        "print(type('hi'))\n",
        "print(type([]))\n",
        "print(type(()))\n",
        "print(type({}))\n",
        "print(type(BigObject))\n",
        "print(type(obj1))"
      ],
      "execution_count": null,
      "outputs": [
        {
          "output_type": "stream",
          "text": [
            "<class 'NoneType'>\n",
            "<class 'bool'>\n",
            "<class 'int'>\n",
            "<class 'float'>\n",
            "<class 'str'>\n",
            "<class 'list'>\n",
            "<class 'tuple'>\n",
            "<class 'dict'>\n",
            "<class 'type'>\n",
            "<class '__main__.BigObject'>\n"
          ],
          "name": "stdout"
        }
      ]
    },
    {
      "cell_type": "markdown",
      "metadata": {
        "id": "N9_2TKVnBv3L",
        "colab_type": "text"
      },
      "source": [
        "### creating a class\n",
        "Enough theory lets make a class for GamingCo!"
      ]
    },
    {
      "cell_type": "code",
      "metadata": {
        "id": "5SGHnHxHDxC_",
        "colab_type": "code",
        "colab": {
          "base_uri": "https://localhost:8080/",
          "height": 122
        },
        "outputId": "642b6772-0d05-4fd2-e188-bd7475e6b0c9"
      },
      "source": [
        "class PlayerCharacter:\n",
        "  def __init__(self, name, age):\n",
        "    self.name = name #for name.self to work later we need to tell python that player willhave the attribute \"name\"\n",
        "    self.age = age ## we can group data with methods to make \n",
        "\n",
        "  def run(self):\n",
        "    print('run')\n",
        "    return 'done'\n",
        "\n",
        "\n",
        "player1 = PlayerCharacter(\"Cindy\", 44)\n",
        "player2 = PlayerCharacter(\"Tom\", 22)\n",
        "\n",
        "print(player1.age)\n",
        "print(player2.name)\n",
        "print(player1.run())\n",
        "\n",
        "print(player1) # The players are at different points  in the memory\n",
        "print(player2) #so we used one blueprint for multiple objects"
      ],
      "execution_count": null,
      "outputs": [
        {
          "output_type": "stream",
          "text": [
            "44\n",
            "Tom\n",
            "run\n",
            "done\n",
            "<__main__.PlayerCharacter object at 0x7f4273d70400>\n",
            "<__main__.PlayerCharacter object at 0x7f4273d707b8>\n"
          ],
          "name": "stdout"
        }
      ]
    },
    {
      "cell_type": "markdown",
      "metadata": {
        "id": "LCDMjoomE2ys",
        "colab_type": "text"
      },
      "source": [
        "Thinking less procedural and thinking more in terms of functionality grouping data like attributes together with methods to create this class that is able to mimic something from the real world.\n",
        "\n",
        "When we create a class and give it attributes and methods  programmers can use the `.` dot method for seeing what is available  right off the bat.\n",
        "\n",
        "doing `help(class)` we can see the actual blueprint\n",
        "\n",
        "#### Class object\n",
        "The class object is different in that they are static. These are used when all objects which will be instanciated will have this object be the same."
      ]
    },
    {
      "cell_type": "code",
      "metadata": {
        "colab_type": "code",
        "id": "11NkLAFhIEgd",
        "colab": {
          "base_uri": "https://localhost:8080/",
          "height": 132
        },
        "outputId": "fd65f7c6-245d-4c8c-b90a-6a476b3f2804"
      },
      "source": [
        "class PlayerCharacter:\n",
        "  memberhsip = True #class object\n",
        "  def __init__(self, name, age):\n",
        "    self.name = name \n",
        "    self.age = age \n",
        "\n",
        "  def run(self):\n",
        "    print('run')\n",
        "    return 'done'\n",
        "\n",
        "  def shout(self):\n",
        "    print(f'my name is {self.name}')\n",
        "\n",
        "\n",
        "player1 = PlayerCharacter(\"Cindy\", 44)\n",
        "player2 = PlayerCharacter(\"Tom\", 22)\n",
        "\n",
        "print(player2.memberhsip, player1.memberhsip)"
      ],
      "execution_count": null,
      "outputs": [
        {
          "output_type": "error",
          "ename": "IndentationError",
          "evalue": "ignored",
          "traceback": [
            "\u001b[0;36m  File \u001b[0;32m\"<ipython-input-19-bcf69728fcac>\"\u001b[0;36m, line \u001b[0;32m14\u001b[0m\n\u001b[0;31m    player1 = PlayerCharacter(\"Cindy\", 44)\u001b[0m\n\u001b[0m                                          ^\u001b[0m\n\u001b[0;31mIndentationError\u001b[0m\u001b[0;31m:\u001b[0m expected an indented block\n"
          ]
        }
      ]
    },
    {
      "cell_type": "markdown",
      "metadata": {
        "id": "nRP4rkXLIu10",
        "colab_type": "text"
      },
      "source": [
        "#### __init__\n",
        "\n",
        "`__init__` is a constructor function. It allows us to give default parameters and control the objects creation"
      ]
    },
    {
      "cell_type": "code",
      "metadata": {
        "id": "ocJa9Sw1KEIx",
        "colab_type": "code",
        "colab": {
          "base_uri": "https://localhost:8080/",
          "height": 70
        },
        "outputId": "f88e98ee-fb64-4927-9da5-cdb3aab84e54"
      },
      "source": [
        "class PlayerCharacter:\n",
        "  membership = True #class object\n",
        "  def __init__(self, name='anonymous', age=0):\n",
        "    if (age > 18):\n",
        "      self.name = name \n",
        "      self.age = age\n",
        "    elif (age < 18):\n",
        "      print(\"you are not old enough\")\n",
        "\n",
        "  def run(self):\n",
        "    print('run')\n",
        "    return 'done'\n",
        "\n",
        "  def shout(self):\n",
        "    print(f'my name is {self.name}')\n",
        "\n",
        "\n",
        "player1 = PlayerCharacter(\"Cindy\", 44)\n",
        "player2 = PlayerCharacter(\"Tom\", 20)\n",
        "\n",
        "print(player1.shout())"
      ],
      "execution_count": null,
      "outputs": [
        {
          "output_type": "stream",
          "text": [
            "you are not old enough\n",
            "my name is Cindy\n",
            "None\n"
          ],
          "name": "stdout"
        }
      ]
    },
    {
      "cell_type": "markdown",
      "metadata": {
        "id": "jNM27S1CKTKv",
        "colab_type": "text"
      },
      "source": [
        "#### Exercise: cat\n",
        "\n",
        "class Cat:\n",
        "    species = 'mammal'\n",
        "    def __init__(self, name, age):\n",
        "        self.name = name\n",
        "        self.age = age"
      ]
    },
    {
      "cell_type": "code",
      "metadata": {
        "id": "VHvLfyTpk8Ia",
        "colab_type": "code",
        "colab": {
          "base_uri": "https://localhost:8080/",
          "height": 52
        },
        "outputId": "9cea537f-ba8c-44c4-9235-28c82e23d389"
      },
      "source": [
        "class Cat:\n",
        "  species = \"mammal\"\n",
        "  def __init__(self, name, age):\n",
        "    self.name = name\n",
        "    self.age = age\n",
        "\n",
        "# 1 Instantiate the Cat object with 3 cats\n",
        "fluffy = Cat(\"Fluffy\", 3)\n",
        "whiskers = Cat(\"Whiskers\", 5)\n",
        "meowmeow = Cat(\"MeowMeow\", 1)\n",
        "\n",
        "# 2 Create a function that finds the oldest cat\n",
        "\n",
        "def oldest_cat( *all_cats):\n",
        "  '''\n",
        "  This function finds the oldest cat from a list Cat objects\n",
        "  '''\n",
        "  oldest_name = \"\"\n",
        "  oldest_age = 0\n",
        "\n",
        "  for cat in all_cats:\n",
        "    if cat.age > oldest_age:\n",
        "      oldest_age = cat.age\n",
        "      oldest_name = cat.name\n",
        "  print(f\"The oldest cat is {oldest_name} who is {oldest_age} years old\")\n",
        "# # 3 Print out \"The oldest cat is X at Y years old\"\n",
        "oldest_cat(fluffy, whiskers, meowmeow)\n",
        "# oldest_cat(cat1, cat2, cat3)\n",
        "\n",
        "# 4 Andreis answer\n",
        "\n",
        "def get_oldest_cat(*args):\n",
        "  return(max(args))\n",
        "\n",
        "print(f\"The oldest cat is {get_oldest_cat(fluffy.age, whiskers.age, meowmeow.age)} years old\")"
      ],
      "execution_count": null,
      "outputs": [
        {
          "output_type": "stream",
          "text": [
            "The oldest cat is Whiskers who is 5 years old\n",
            "The oldest cat is 5 years old\n"
          ],
          "name": "stdout"
        }
      ]
    },
    {
      "cell_type": "markdown",
      "metadata": {
        "id": "rCysGhkfpWvg",
        "colab_type": "text"
      },
      "source": [
        "#### @classmethod and @staticmethod\n",
        "\n",
        "Classmethods:\n",
        "* A class method is a method which is bound to the class and not the object of the class.\n",
        "* They have the access to the state of the class as it takes a class parameter that points to the class and not the object instance.\n",
        "* It can modify a class state that would apply across all the instances of the class. For example it can modify a class variable that will be applicable to all the instances.\n",
        "\n",
        "Staticmethod is the same thing as a classmethod but does not have access to the class:\n",
        "* A static method is also a method which is bound to the class and not the object of the class.\n",
        "* A static method can’t access or modify class state.\n",
        "* It is present in a class because it makes sense for the method to be present in class.\n"
      ]
    },
    {
      "cell_type": "code",
      "metadata": {
        "id": "F7qwLE2q0CLW",
        "colab_type": "code",
        "colab": {
          "base_uri": "https://localhost:8080/",
          "height": 34
        },
        "outputId": "010dddc4-24a1-4124-ae78-30947a2ede01"
      },
      "source": [
        "class PlayerCharacter:\n",
        "  membership = True #class object\n",
        "  def __init__(self, name='anonymous', age=0):\n",
        "    if (age > 18):\n",
        "      self.name = name \n",
        "      self.age = age\n",
        "    elif (age < 18):\n",
        "      print(\"you are not old enough\")\n",
        "\n",
        "  def run(self):\n",
        "    print('run')\n",
        "    return 'done'\n",
        "\n",
        "  def shout(self):\n",
        "    print(f'my name is {self.name}')\n",
        "\n",
        "(cls, num1, num2):\n",
        "    return cls(\"Teddy\", num1 + num2)\n",
        "\n",
        "  \n",
        "\n",
        "player3 = PlayerCharacter.adding_things(22,3)\n",
        "print(player3.age)\n"
      ],
      "execution_count": null,
      "outputs": [
        {
          "output_type": "stream",
          "text": [
            "25\n"
          ],
          "name": "stdout"
        }
      ]
    },
    {
      "cell_type": "markdown",
      "metadata": {
        "id": "bouQj4Lp0bkH",
        "colab_type": "text"
      },
      "source": [
        "### Review so far:"
      ]
    },
    {
      "cell_type": "code",
      "metadata": {
        "id": "pmc3cDuC18hc",
        "colab_type": "code",
        "colab": {}
      },
      "source": [
        "class NameOfClass(): #Use Camel Case, Where Each Word is Capitalized\n",
        "  class_attribute = 'value' #use fopr things which are true for all objects in the class\n",
        "  def __init__(self, param1, param2): #creates and assigns attributes to the object on every instantiation\n",
        "    self.param1 = param1\n",
        "    self.param2 = param2\n",
        "  \n",
        "  def method(self): #actions which can be invoked on the object\n",
        "    #code for the method\n",
        "    pass\n",
        "\n",
        "  @classmethod \n",
        "  def cls_method(cls, param1, param2):\n",
        "    #code for the class method\n",
        "    pass\n",
        "\n",
        "  @staticmethod \n",
        "  def stc_method(param1, param2):\n",
        "    #code for the static method\n",
        "    pass\n",
        "  "
      ],
      "execution_count": null,
      "outputs": []
    },
    {
      "cell_type": "markdown",
      "metadata": {
        "id": "LCPAhJPC5Jo-",
        "colab_type": "text"
      },
      "source": [
        "#### Developer Fundamentals V:"
      ]
    },
    {
      "cell_type": "code",
      "metadata": {
        "id": "lXf3shLk3rAr",
        "colab_type": "code",
        "colab": {
          "base_uri": "https://localhost:8080/",
          "height": 34
        },
        "outputId": "54a29955-a694-4e2e-f45a-8ee656dd8442"
      },
      "source": [
        "class PlayerCharacter:\n",
        "  def __init__(self, name, age):\n",
        "    self.name = name\n",
        "    self.age = age\n",
        "\n",
        "  def run(self):\n",
        "    return(self) #lets test what happens with return self\n",
        "  \n",
        "player1 = PlayerCharacter('Jimbo', 2000)\n",
        "print(player1.run()) #<returns __main__.PlayerCharacter object at 0x7f927fef70b8>\n",
        "                     #self references the Class object! "
      ],
      "execution_count": null,
      "outputs": [
        {
          "output_type": "stream",
          "text": [
            "<__main__.PlayerCharacter object at 0x7f927fef70b8>\n"
          ],
          "name": "stdout"
        }
      ]
    },
    {
      "cell_type": "markdown",
      "metadata": {
        "id": "714Yeskn5dd7",
        "colab_type": "text"
      },
      "source": [
        "### The Four pillars of OOP: Encapsulation\n",
        "\n",
        "What is Encapsulation:\n",
        "Encapsulation is the binding of data and functions that manipulate that data and we encapsulate into one big object so that we keep everything in this box that users or code or other machines can interact with. In this data and functions are what we call attributes and methods right.\n",
        "\n",
        "We are able to encapsulate the attributes of `PlayerCharacter` in `name` and `age`. We can also have functions that act upon this `name` and `age` with `methods`."
      ]
    },
    {
      "cell_type": "markdown",
      "metadata": {
        "id": "5CiWa18O9-2j",
        "colab_type": "text"
      },
      "source": [
        "### The Four Pillars of OOP: Abstraction\n",
        "\n",
        "Abstraction means hiding of information or abstracting away information and giving access to only what's necessary.\n",
        "\n",
        "think about a smartphone. Do you need to know how the camera is coded? No. All you need to know is that you can do camera.takepicture to take a picture!\n"
      ]
    },
    {
      "cell_type": "code",
      "metadata": {
        "id": "g1jdlB9S-OWj",
        "colab_type": "code",
        "colab": {
          "base_uri": "https://localhost:8080/",
          "height": 87
        },
        "outputId": "bbd5ecc6-89e5-4c37-ddac-67511116ac11"
      },
      "source": [
        "class PlayerCharacter:\n",
        "  def __init__(self, name, age):\n",
        "    self.name = name\n",
        "    self.age = age\n",
        "\n",
        "  def run(self):\n",
        "    print('run')\n",
        "\n",
        "  def speak(self):\n",
        "    print(f'My name is {self.name}, and I am {self.age} years old')\n",
        "\n",
        "player1 = PlayerCharacter('JimboSlice', 69)\n",
        "\n",
        "player1.speak() #this is abstraction in practice!. It abstracts how `.speak()` is implimented\n",
        "                #all it cares about us that player1 has access to .speak()\n",
        "\n",
        "print((1,2,3,1).count(1)) #do you need to know how count is implimented? No not really.\n",
        "print(len((1,2,3,1))) #how len is implimented is abstracted away!\n",
        "\n",
        "player1.name = \"!!!!\"\n",
        "player1.speak = 'BoOoOOooo 👻'\n",
        "\n",
        "#print(player1.speak()) will no longer work because we overwrote the class attriute\n",
        "print(player1.speak) #oh no we have overwritten our class attribute!"
      ],
      "execution_count": null,
      "outputs": [
        {
          "output_type": "stream",
          "text": [
            "My name is JimboSlice, and I am 69 years old\n",
            "2\n",
            "4\n",
            "BoOoOOooo 👻\n"
          ],
          "name": "stdout"
        }
      ]
    },
    {
      "cell_type": "markdown",
      "metadata": {
        "id": "kM49ONKY--x3",
        "colab_type": "text"
      },
      "source": [
        "#### Public vs Private Variables\n",
        "\n",
        "Ideally we should not have access to `__init__` or modify `name` or `age`. Unfortunately in python there is no true privacy or private variables.\n",
        "\n",
        "We can get around it by using `self._name` or `self._age`. the `_` lets other programmers know that the variable should be private and not used.\n"
      ]
    },
    {
      "cell_type": "code",
      "metadata": {
        "id": "ALAsrnIQAo5S",
        "colab_type": "code",
        "colab": {}
      },
      "source": [
        "class PlayerCharacter:\n",
        "  def __init__(self, name, age):\n",
        "    self._name = name\n",
        "    self._age = age\n",
        "\n",
        "  def run(self):\n",
        "    print('run')\n",
        "\n",
        "  def speak(self):\n",
        "    print(f'My name is {self._name}, and I am {self._age} years old')\n",
        "\n",
        "player1 = PlayerCharacter('JimboSlice', 69)"
      ],
      "execution_count": null,
      "outputs": []
    },
    {
      "cell_type": "markdown",
      "metadata": {
        "id": "eR5xOG88BITk",
        "colab_type": "text"
      },
      "source": [
        "### The Four Pillars of OOP: Inheritance\n",
        "\n",
        "Lets say we want to create a new game and we have different types of users. So we have users that can be wizards or elves or archers but all these users have some common functionality. And each one of the sub users like: wizards, elves, archers have some common shared functionality but then again different attacks. Using OOP we can do inheritance.\n",
        "\n",
        "`class SubClass(ParentClass):`"
      ]
    },
    {
      "cell_type": "code",
      "metadata": {
        "id": "8mFlfYxZB3XZ",
        "colab_type": "code",
        "colab": {
          "base_uri": "https://localhost:8080/",
          "height": 70
        },
        "outputId": "9bb3f8fd-5901-4162-f7b6-0e8fbe5465dc"
      },
      "source": [
        "#users\n",
        "#  -wizard\n",
        "#  -elves\n",
        "\n",
        "class User:\n",
        "  def sign_in(self): #if we dont have variables then we dont need init.\n",
        "    print('logged in')\n",
        "\n",
        "class Wizard(User):\n",
        "  def __init__(self, name, power):\n",
        "    self.name = name\n",
        "    self.power = power\n",
        "  \n",
        "  def attack(self):\n",
        "    print(f'attacking with power of {self.power}')\n",
        "    return self\n",
        "\n",
        "class Archer(User):\n",
        "  def __init__(self, name, num_arrows):\n",
        "    self.name = name\n",
        "    self.num_arrows = num_arrows  \n",
        "  \n",
        "  def attack(self):\n",
        "    print(f'attacking with arrows: arrows left {self.num_arrows}') \n",
        "    return \n",
        "\n",
        "wizard1 = Wizard(\"Merlin\", 50)\n",
        "archer1 = Archer(\"Robin\", 100)\n",
        "\n",
        "wizard1.sign_in() #inherited from ParentClass: User\n",
        "\n",
        "wizard1.attack()\n",
        "archer1.attack()"
      ],
      "execution_count": null,
      "outputs": [
        {
          "output_type": "stream",
          "text": [
            "logged in\n",
            "attacking with power of 50\n",
            "attacking with arrows: arrows left 100\n"
          ],
          "name": "stdout"
        }
      ]
    },
    {
      "cell_type": "markdown",
      "metadata": {
        "id": "o6jYRhbRB5aE",
        "colab_type": "text"
      },
      "source": [
        "#### Inheritance 2\n",
        "\n",
        "Python gives us a useful tool to check if something is an instance of a class and easily enough for us. It is called `isinstance`"
      ]
    },
    {
      "cell_type": "code",
      "metadata": {
        "id": "Z58Mt_OxEnKG",
        "colab_type": "code",
        "colab": {
          "base_uri": "https://localhost:8080/",
          "height": 87
        },
        "outputId": "12c38868-f85e-4363-d915-5502921ea258"
      },
      "source": [
        "print(isinstance(wizard1,Wizard)) #well obviously yes\n",
        "print(isinstance(wizard1,User)) #Wizard class is a sub class so yes it is also a User\n",
        "print(isinstance(wizard1,Archer)) #Is false because its not an Archer\n",
        "print(isinstance(wizard1, object)) #because it is an object we have all the automatic\n",
        "                                   #methods of objects available to us\n"
      ],
      "execution_count": null,
      "outputs": [
        {
          "output_type": "stream",
          "text": [
            "True\n",
            "True\n",
            "False\n",
            "True\n"
          ],
          "name": "stdout"
        }
      ]
    },
    {
      "cell_type": "markdown",
      "metadata": {
        "id": "XBY47eywEtEj",
        "colab_type": "text"
      },
      "source": [
        "### The Four Pillars of OOP: Poymorphism\n",
        "\n",
        "Poly: many\n",
        "morphism: forms\n",
        "\n",
        "This idea of polymorphism refers to the way in which object classes can share the same method name but those method names can act differently based on what object calls them.\n",
        "\n",
        "Both Wizard and Archer have the method `attack` but what it does changes based on the object that is calling it.\n",
        "\n",
        "Lets look at the code:\n"
      ]
    },
    {
      "cell_type": "code",
      "metadata": {
        "id": "YB_b6kuUFdgS",
        "colab_type": "code",
        "colab": {
          "base_uri": "https://localhost:8080/",
          "height": 122
        },
        "outputId": "f00c1515-9257-4257-a5fc-cfa508a92cae"
      },
      "source": [
        "class User:\n",
        "  def sign_in(self): #if we dont have variables then we dont need init.\n",
        "    print('logged in')\n",
        "\n",
        "  def attack(self):\n",
        "    print('do nothing')\n",
        "\n",
        "class Wizard(User):\n",
        "  def __init__(self, name, power):\n",
        "    self.name = name\n",
        "    self.power = power\n",
        "  \n",
        "  def attack(self):\n",
        "    User.attack(self) #can invoke polymorphic things from the parent class\n",
        "    print(f'attacking with power of {self.power}')\n",
        "    \n",
        "class Archer(User):\n",
        "  def __init__(self, name, num_arrows):\n",
        "    self.name = name\n",
        "    self.num_arrows = num_arrows  \n",
        "  \n",
        "  def attack(self):\n",
        "    print(f'attacking with arrows: arrows left {self.num_arrows}') \n",
        "    \n",
        "\n",
        "wizard1 = Wizard(\"Merlin\", 50)\n",
        "archer1 = Archer(\"Robin\", 100)\n",
        "\n",
        "def player_attack(char): #even though they are different classes since they both have attack it will work. Polymorphism!\n",
        "  char.attack()\n",
        "\n",
        "player_attack(wizard1)\n",
        "player_attack(archer1)\n",
        "\n",
        "#also works in for loops\n",
        "for char in [wizard1, archer1]:\n",
        "  char.attack()"
      ],
      "execution_count": null,
      "outputs": [
        {
          "output_type": "stream",
          "text": [
            "do nothing\n",
            "attacking with power of 50\n",
            "attacking with arrows: arrows left 100\n",
            "do nothing\n",
            "attacking with power of 50\n",
            "attacking with arrows: arrows left 100\n"
          ],
          "name": "stdout"
        }
      ]
    },
    {
      "cell_type": "markdown",
      "metadata": {
        "id": "UqEXtBnRGTf_",
        "colab_type": "text"
      },
      "source": [
        "### Exercise: Pets!\n",
        " \n",
        "using the following code answer the questions:\n"
      ]
    },
    {
      "cell_type": "code",
      "metadata": {
        "id": "9g8GBlYzHoVG",
        "colab_type": "code",
        "colab": {}
      },
      "source": [
        "class Pets():\n",
        "    animals = []\n",
        "    def __init__(self, animals):\n",
        "        self.animals = animals\n",
        "\n",
        "    def walk(self):\n",
        "        for animal in self.animals:\n",
        "            print(animal.walk())\n",
        "\n",
        "class Cat():\n",
        "    is_lazy = True\n",
        "\n",
        "    def __init__(self, name, age):\n",
        "        self.name = name\n",
        "        self.age = age\n",
        "\n",
        "    def walk(self):\n",
        "        return f'{self.name} is just walking around'\n",
        "\n",
        "class Simon(Cat):\n",
        "    def sing(self, sounds):\n",
        "        return f'{sounds}'\n",
        "\n",
        "class Sally(Cat):\n",
        "    def sing(self, sounds):\n",
        "        return f'{sounds}'"
      ],
      "execution_count": null,
      "outputs": []
    },
    {
      "cell_type": "code",
      "metadata": {
        "id": "5usEj4xhHx1X",
        "colab_type": "code",
        "colab": {
          "base_uri": "https://localhost:8080/",
          "height": 70
        },
        "outputId": "43a7ccee-96b3-4924-94f1-7f127609bf3a"
      },
      "source": [
        "#1 Add nother Cat\n",
        "class Fluffy(Cat):\n",
        "  def sing(self, sounds):\n",
        "    return f'{sounds}'\n",
        "#2 Create a list of all of the pets (create 3 cat instances from the above)\n",
        "my_cats = [Simon(\"Simon\", 5), Sally(\"Sally\", 3), Fluffy('Fluffy', 16)]\n",
        "\n",
        "#3 Instantiate the Pet class with all your cats use variable my_pets\n",
        "my_pets = Pets(my_cats)\n",
        "#4 Output all of the cats walking using the my_pets instance\n",
        "my_pets.walk()"
      ],
      "execution_count": null,
      "outputs": [
        {
          "output_type": "stream",
          "text": [
            "Simon is just walking around\n",
            "Sally is just walking around\n",
            "Fluffy is just walking around\n"
          ],
          "name": "stdout"
        }
      ]
    },
    {
      "cell_type": "markdown",
      "metadata": {
        "id": "fw0-d0xrIcP4",
        "colab_type": "text"
      },
      "source": [
        "\n",
        "### super()\n",
        "\n",
        "`super()` calls the parent class of the object. It allows you to pass things from parent to child without having to specify the parent class"
      ]
    },
    {
      "cell_type": "code",
      "metadata": {
        "id": "0jwKTEJMJskw",
        "colab_type": "code",
        "colab": {
          "base_uri": "https://localhost:8080/",
          "height": 34
        },
        "outputId": "730b5317-5e89-4e11-f8b3-d2d3ab2c6010"
      },
      "source": [
        "#We have removed the attack function for now. Lets try something new and use __init__\n",
        "class User:\n",
        "  def __init__(self, email):\n",
        "    self.email = email\n",
        "  def sign_in(self): #if we dont have variables then we dont need init.\n",
        "    print('logged in')\n",
        "\n",
        "class Wizard(User):\n",
        "  def __init__(self, name, power, email):\n",
        "    User.__init__(self, email) #needs to be added to call the User init\n",
        "    self.name = name\n",
        "    self.power = power\n",
        "  \n",
        "  def attack(self):\n",
        "    print(f'attacking with power of {self.power}')\n",
        "    \n",
        "class Archer(User):\n",
        "  def __init__(self, name, num_arrows, email):\n",
        "    super().__init__(email)\n",
        "    self.name = name\n",
        "    self.num_arrows = num_arrows  \n",
        "  \n",
        "  def attack(self):\n",
        "    print(f'attacking with arrows: arrows left {self.num_arrows}')\n",
        "\n",
        "wizard1 = Wizard(\"Merlin\", 50, 'merlin@gmail.com')\n",
        "archer1 = Archer(\"Robin\", 100, 'bullseye@sherwood.com')\n",
        "\n",
        "print(wizard1.email)\n",
        "\n",
        "#print(wizard1.email) will error out as Wizard does not have email\n",
        "#because wizrad has a constructor it will not inherit the email tag unless\n",
        "#you have added User.__init__ or super().__init__"
      ],
      "execution_count": null,
      "outputs": [
        {
          "output_type": "stream",
          "text": [
            "merlin@gmail.com\n"
          ],
          "name": "stdout"
        }
      ]
    },
    {
      "cell_type": "markdown",
      "metadata": {
        "id": "M0oHuK9wKY36",
        "colab_type": "text"
      },
      "source": [
        "### Introspection\n",
        "\n",
        "Introspection in computer programming means the ability to determine the type of an object at runtime, which means while the code is running. Because everything is an object (in python) we can introspect very easily\n",
        "\n",
        "`dir`: prints everything the object has access too. This is actually what happens when typing and press `.` and see everything you can do."
      ]
    },
    {
      "cell_type": "code",
      "metadata": {
        "id": "wV1LS2P9L6VC",
        "colab_type": "code",
        "colab": {
          "base_uri": "https://localhost:8080/",
          "height": 54
        },
        "outputId": "4e636a7c-cc94-4c73-f81c-43d3c2f4fcd3"
      },
      "source": [
        "print(dir(wizard1))"
      ],
      "execution_count": null,
      "outputs": [
        {
          "output_type": "stream",
          "text": [
            "['__class__', '__delattr__', '__dict__', '__dir__', '__doc__', '__eq__', '__format__', '__ge__', '__getattribute__', '__gt__', '__hash__', '__init__', '__init_subclass__', '__le__', '__lt__', '__module__', '__ne__', '__new__', '__reduce__', '__reduce_ex__', '__repr__', '__setattr__', '__sizeof__', '__str__', '__subclasshook__', '__weakref__', 'attack', 'email', 'name', 'power', 'sign_in']\n"
          ],
          "name": "stdout"
        }
      ]
    },
    {
      "cell_type": "markdown",
      "metadata": {
        "id": "3g1HTG0nMGYH",
        "colab_type": "text"
      },
      "source": [
        "### Dunder (magic) methods\n",
        "\n",
        "We can see what the object has access to using introspection.\n",
        "We also have things like length (`len()`) for example that allows us to tell the length of an array. These are actually implemented using these Dunder methods they allow us to use Python specific functions. We can actually modify what they do for a specific class"
      ]
    },
    {
      "cell_type": "code",
      "metadata": {
        "id": "StOqoDlQMtvm",
        "colab_type": "code",
        "colab": {
          "base_uri": "https://localhost:8080/",
          "height": 122
        },
        "outputId": "56f91e0b-e994-47f6-81a9-e704d3792c78"
      },
      "source": [
        "class Toy():\n",
        "  def __init__(self, color, age):\n",
        "    self.color = color\n",
        "    self.age = age\n",
        "    self.mydict ={\n",
        "        'name': 'yoyo',\n",
        "        'has_pets': False\n",
        "    }\n",
        "  \n",
        "  def __str__(self):\n",
        "    return f'{self.color}'\n",
        "\n",
        "  def __len__(self):\n",
        "    return 5\n",
        "\n",
        "  # def __del__(self): #deletes the object\n",
        "  #   print('deleted!')\n",
        "\n",
        "  def __call__(self): #allows us to call the object\n",
        "    return ('yessss?')\n",
        "\n",
        "  def __getitem__(self, i):\n",
        "    return self.mydict[i]\n",
        "\n",
        "\n",
        "action_figure = Toy('red', 0)\n",
        "print(action_figure.__str__()) #special method\n",
        "print(str(action_figure))\n",
        "print(str(555))\n",
        "\n",
        "print(len(action_figure))\n",
        "print(action_figure())\n",
        "print(action_figure['name'])\n",
        "\n",
        "del action_figure"
      ],
      "execution_count": null,
      "outputs": [
        {
          "output_type": "stream",
          "text": [
            "red\n",
            "red\n",
            "555\n",
            "5\n",
            "yessss?\n",
            "yoyo\n"
          ],
          "name": "stdout"
        }
      ]
    },
    {
      "cell_type": "markdown",
      "metadata": {
        "id": "bPyrklLJNCyk",
        "colab_type": "text"
      },
      "source": [
        "### Exercise: Extending List\n",
        "\n",
        "create a class `SuperList` with a `__len__` which always returns 1000"
      ]
    },
    {
      "cell_type": "code",
      "metadata": {
        "id": "4iIPX7ggPvKH",
        "colab_type": "code",
        "colab": {
          "base_uri": "https://localhost:8080/",
          "height": 52
        },
        "outputId": "e17acfcf-d22f-4a67-93a7-aba637f8cea4"
      },
      "source": [
        "class SuperList(list): #don't capitalize list\n",
        "  def __len__(self):\n",
        "    return 1000\n",
        "\n",
        "super_list1 = SuperList()\n",
        "\n",
        "print(len(super_list1))\n",
        "super_list1.append(5)\n",
        "print(super_list1[0])"
      ],
      "execution_count": null,
      "outputs": [
        {
          "output_type": "stream",
          "text": [
            "1000\n",
            "5\n"
          ],
          "name": "stdout"
        }
      ]
    },
    {
      "cell_type": "code",
      "metadata": {
        "id": "5tlKoreqQaV7",
        "colab_type": "code",
        "colab": {
          "base_uri": "https://localhost:8080/",
          "height": 34
        },
        "outputId": "cfc1b7b6-669c-4256-8cdb-566492dc2122"
      },
      "source": [
        "print(issubclass(SuperList,list))"
      ],
      "execution_count": null,
      "outputs": [
        {
          "output_type": "stream",
          "text": [
            "True\n"
          ],
          "name": "stdout"
        }
      ]
    },
    {
      "cell_type": "markdown",
      "metadata": {
        "id": "g7Y3F8naSNhJ",
        "colab_type": "text"
      },
      "source": [
        "### Multiple Inheritance\n",
        "\n",
        "When you do multiple inheritance things get complicated.\n",
        "\n",
        "It grants a lot of power and flexibility but also greatly increases code complexity."
      ]
    },
    {
      "cell_type": "code",
      "metadata": {
        "id": "ActfI1i6SljW",
        "colab_type": "code",
        "colab": {
          "base_uri": "https://localhost:8080/",
          "height": 158
        },
        "outputId": "dadaf106-18b6-45a4-95e5-507d85c93586"
      },
      "source": [
        "class User:\n",
        "  def sign_in(self):\n",
        "    print('logged in')\n",
        "\n",
        "class Wizard(User):\n",
        "  def __init__(self, name, power):\n",
        "    self.name = name\n",
        "    self.power = power\n",
        "  \n",
        "  def attack(self):\n",
        "    print(f'attacking with power of {self.power}')\n",
        "    \n",
        "class Archer(User):\n",
        "  def __init__(self, name, arrows):\n",
        "    self.name = name\n",
        "    self.arrows = arrows  \n",
        "  \n",
        "  def check_arrows(self):\n",
        "    print(f'{self.arrows} remaining')\n",
        "\n",
        "  def run(self):\n",
        "    print('ran really fast')\n",
        "\n",
        "class HybridBorg(Wizard, Archer):\n",
        "  def __init__(self, name, power, arrows):\n",
        "    Archer.__init__(self, name, arrows)\n",
        "    Wizard.__init__(self, name, power)\n",
        "\n",
        "hb1 = HybridBorg(\"borgie\", 50, 100)\n",
        "print(hb1.run())\n",
        "print(hb1.check_arrows())\n",
        "print(hb1.attack())\n",
        "print(hb1.sign_in())"
      ],
      "execution_count": null,
      "outputs": [
        {
          "output_type": "stream",
          "text": [
            "ran really fast\n",
            "None\n",
            "100 remaining\n",
            "None\n",
            "attacking with power of 50\n",
            "None\n",
            "logged in\n",
            "None\n"
          ],
          "name": "stdout"
        }
      ]
    },
    {
      "cell_type": "markdown",
      "metadata": {
        "id": "eblT65izTXR_",
        "colab_type": "text"
      },
      "source": [
        "#### MRO - Method Resolution Order\n",
        "\n",
        "MRO is simply saying what's first in line if things are common between classes methods or variables or attributes.\n",
        "\n",
        "The below code looks like\n",
        "\n",
        "        A\n",
        "      /   \\\n",
        "    /      \\\n",
        "    B       C\n",
        "    \\      /\n",
        "      \\   /\n",
        "        D\n",
        "\n",
        "And MRO will check what comes first -> last. D, B, C, A\n",
        "\n",
        "It is easy to check using `print(Class.mro())`"
      ]
    },
    {
      "cell_type": "code",
      "metadata": {
        "id": "nzSfDmGeU7na",
        "colab_type": "code",
        "colab": {
          "base_uri": "https://localhost:8080/",
          "height": 72
        },
        "outputId": "1c5ebd6f-2987-49b2-f187-d2f9932c35ac"
      },
      "source": [
        "class A:\n",
        "  num = 10\n",
        "\n",
        "class B(A):\n",
        "  pass\n",
        "\n",
        "class C(A):\n",
        "  num = 1\n",
        "\n",
        "class D(B,C):\n",
        "  pass\n",
        "\n",
        "print(D.mro()) # This is the order that python checks when you call something\n",
        "# checks D, then B, then C (finds and returns num)) then A, then object\n",
        "print(D.num)"
      ],
      "execution_count": null,
      "outputs": [
        {
          "output_type": "stream",
          "text": [
            "1\n",
            "[<class '__main__.D'>, <class '__main__.B'>, <class '__main__.C'>, <class '__main__.A'>, <class 'object'>]\n"
          ],
          "name": "stdout"
        }
      ]
    },
    {
      "cell_type": "code",
      "metadata": {
        "id": "37JIgpQGVCB6",
        "colab_type": "code",
        "colab": {
          "base_uri": "https://localhost:8080/",
          "height": 54
        },
        "outputId": "af4110a7-4da9-48e9-c35e-8aa815378001"
      },
      "source": [
        "#given the classes below:\n",
        "class X: pass\n",
        "class Y: pass\n",
        "class Z: pass\n",
        "class A(X,Y): pass\n",
        "class B(Y,Z): pass\n",
        "class M(B,A,Z): pass\n",
        "\n",
        "#What is the MRO\n",
        "#M,B,A,Z,Y,X - is wrong because MRO uses depth first search for its algorythm\n",
        "print(M.mro())"
      ],
      "execution_count": null,
      "outputs": [
        {
          "output_type": "stream",
          "text": [
            "[<class '__main__.M'>, <class '__main__.B'>, <class '__main__.A'>, <class '__main__.X'>, <class '__main__.Y'>, <class '__main__.Z'>, <class 'object'>]\n"
          ],
          "name": "stdout"
        }
      ]
    },
    {
      "cell_type": "markdown",
      "metadata": {
        "id": "AzgEiK8vXSsU",
        "colab_type": "text"
      },
      "source": [
        "## Functional Programming\n",
        "\n",
        "Functional programming functional programming is all about separation of concerns which object oriented programming does as well. It's all about packagong code into seperate chuncks so that everythings well organized in each part. We remember in our object oriented programming section how we had classes to divide up attributes and methods of let's say a wizard class and an archer class and functional programming has this idea as well of separating concerns but they also separate data and functions. That's how a functional programmer views the world instead of combining methods and attributes. We separate them up because they're two separate things.\n",
        "\n",
        "Genertally functional languages have a focus on simplicity where data and functions are concerned.\n",
        "\n",
        "Ideally Functional Programming is\n",
        "* Clear and Undertandable\n",
        "* Easy to extend\n",
        "* Easy to maintain\n",
        "* Memory Efficient\n",
        "* D.R.Y."
      ]
    },
    {
      "cell_type": "markdown",
      "metadata": {
        "id": "hW6YZUm9pHqJ",
        "colab_type": "text"
      },
      "source": [
        "### Pure Functions\n",
        "\n",
        "A pure function looks like this [1,2,3] -f> [2,4,6].\n",
        "\n",
        "A pure function has two rules:\n",
        "1. Given a specific input, it should always get the same output\n",
        "2. A function should produce not *side effects*. That is to say it should not affect the outside world\n",
        "\n",
        "Try to keep functions pure whenever you can. It reduces bugs and makes life easier"
      ]
    },
    {
      "cell_type": "code",
      "metadata": {
        "id": "UQtHsHnGrGA2",
        "colab_type": "code",
        "colab": {
          "base_uri": "https://localhost:8080/",
          "height": 70
        },
        "outputId": "462181dd-8fb2-4cb1-e94c-842d60c05412"
      },
      "source": [
        "#is this a pure function\n",
        "def multiply_by2(li):\n",
        "  new_list = []\n",
        "  for item in li:\n",
        "    new_list.append(item*2)\n",
        "  return new_list \n",
        "\n",
        "print(multiply_by2([1,2,3]))\n",
        "\n",
        "#1 it always produced teh same result for a given input\n",
        "#2 it does not interact with the outside world at all\n",
        "\n",
        "#is this a pure function\n",
        "def multiply_by2b(li):\n",
        "  new_list = []\n",
        "  for item in li:\n",
        "    new_list.append(item*2)\n",
        "  return print(new_list)\n",
        "\n",
        "multiply_by2b([1,2,3])\n",
        "#This is NOT a pure function as it prints to the outside world.\n",
        "\n",
        "#is this a pure function\n",
        "new_list = []\n",
        "def multiply_by2c(li):\n",
        "  for item in li:\n",
        "    new_list.append(item*2)\n",
        "  return new_list \n",
        "\n",
        "print(multiply_by2c([1,2,3]))\n",
        "\n",
        "#No it is not. It fills a variable that exists in the outside world"
      ],
      "execution_count": null,
      "outputs": [
        {
          "output_type": "stream",
          "text": [
            "[2, 4, 6]\n",
            "[2, 4, 6]\n",
            "[2, 4, 6]\n"
          ],
          "name": "stdout"
        }
      ]
    },
    {
      "cell_type": "markdown",
      "metadata": {
        "id": "Q201OlR5rWOS",
        "colab_type": "text"
      },
      "source": [
        "### map, filter, zip, reduce\n",
        "\n",
        "* map - a built in function we give a function and an iterable, and it runs the function over the iterable\n",
        "* filter  - a built in function that allows us to filter results using boolean results\n",
        "* zip - can be used to combine 2 or more iterables together until the shortest iterable is finished (it stops when the shortest one is finished)\n",
        "* reduce - allows us to simplify code by applying a function to all the list elements mentioned in the reduce function"
      ]
    },
    {
      "cell_type": "code",
      "metadata": {
        "id": "Cg77iV0819Kk",
        "colab_type": "code",
        "colab": {
          "base_uri": "https://localhost:8080/",
          "height": 193
        },
        "outputId": "4a7e4cf8-c3e3-4f66-cb30-0037c3c9f171"
      },
      "source": [
        "my_list = [1,2,3]\n",
        "your_list = [10,20,30,40]\n",
        "their_list = (5,4,3,7,8)\n",
        "# map\n",
        "def map_by2(item):\n",
        "  return item*2 #can be super simplified (and pure) because it is designed for map\n",
        "\n",
        "print(map(map_by2, [1,2,3])) #returns a map object in memory\n",
        "print(list(map(map_by2,[1,2,3]))) #no need for map_by2()\n",
        "print(list(map(map_by2, my_list)))\n",
        "print(f'my list = {my_list}')\n",
        "\n",
        "# filter\n",
        "def only_odd(item):\n",
        "  return item % 2 #will divide by 2. if remainder != 0 will be True \n",
        "\n",
        "print(list(filter(only_odd, my_list)))\n",
        "\n",
        "# zip\n",
        "print(list(zip(my_list, your_list, their_list)))\n",
        "\n",
        "#reduce\n",
        "\n",
        "def accumulator(acc, item):\n",
        "  print(acc, item)\n",
        "  return acc + item\n",
        "\n",
        "from functools import reduce\n",
        "print(reduce(accumulator, my_list, 0)) #function, data, inital parameter/value"
      ],
      "execution_count": null,
      "outputs": [
        {
          "output_type": "stream",
          "text": [
            "<map object at 0x7f927fe8cb70>\n",
            "[2, 4, 6]\n",
            "[2, 4, 6]\n",
            "my list = [1, 2, 3]\n",
            "[1, 3]\n",
            "[(1, 10, 5), (2, 20, 4), (3, 30, 3)]\n",
            "0 1\n",
            "1 2\n",
            "3 3\n",
            "6\n"
          ],
          "name": "stdout"
        }
      ]
    },
    {
      "cell_type": "markdown",
      "metadata": {
        "id": "ZoyjbBqs2edg",
        "colab_type": "text"
      },
      "source": [
        "#### Exercise: map, filter, zip, reduce:\n",
        "\n",
        "complete the code challenege below:"
      ]
    },
    {
      "cell_type": "code",
      "metadata": {
        "id": "rGO66pMp7u8f",
        "colab_type": "code",
        "colab": {
          "base_uri": "https://localhost:8080/",
          "height": 87
        },
        "outputId": "cb3462ee-c628-48c2-eb10-c7f3ff0491d6"
      },
      "source": [
        "from functools import reduce\n",
        "\n",
        "#1 Capitalize all of the pet names and print the list\n",
        "my_pets = ['sisi', 'bibi', 'titi', 'carla']\n",
        "def capitalize(item):\n",
        "  return item.capitalize()\n",
        "\n",
        "print(list(map(capitalize, my_pets)))\n",
        "\n",
        "#2 Zip the 2 lists into a list of tuples, but sort the numbers from lowest to highest.\n",
        "my_strings = ['a', 'b', 'c', 'd', 'e']\n",
        "my_numbers = [5,4,3,2,1]\n",
        "\n",
        "\n",
        "print(list(zip(my_strings, sorted(my_numbers))))\n",
        "               \n",
        "#3 Filter the scores that pass over 50%\n",
        "scores = [73, 20, 65, 19, 76, 100, 88]\n",
        "\n",
        "def pass_grade(item):\n",
        "  return item > 50\n",
        "\n",
        "print(list(filter(pass_grade, scores)))\n",
        "\n",
        "#4 Combine all of the numbers that are in a list on this file using reduce (my_numbers and scores). What is the total?\n",
        "def accumulator(acc, item):\n",
        "  return acc + item\n",
        "\n",
        "print(reduce(accumulator,(my_numbers + scores)))\n"
      ],
      "execution_count": null,
      "outputs": [
        {
          "output_type": "stream",
          "text": [
            "['Sisi', 'Bibi', 'Titi', 'Carla']\n",
            "[('a', 1), ('b', 2), ('c', 3), ('d', 4), ('e', 5)]\n",
            "[73, 65, 76, 100, 88]\n",
            "456\n"
          ],
          "name": "stdout"
        }
      ]
    },
    {
      "cell_type": "markdown",
      "metadata": {
        "id": "rOLZNdM68Md8",
        "colab_type": "text"
      },
      "source": [
        "### Lambda Expressions\n",
        "\n",
        "Onetime anonymous functions you only need once\n",
        "\n",
        "`lambda param: action_to_take`"
      ]
    },
    {
      "cell_type": "code",
      "metadata": {
        "id": "dXu-STVmGa_m",
        "colab_type": "code",
        "colab": {
          "base_uri": "https://localhost:8080/",
          "height": 52
        },
        "outputId": "76170edb-52e5-4344-a612-92341effc05a"
      },
      "source": [
        "my_list = [1,2,3]\n",
        "\n",
        "print(list(map(lambda item: item*2, my_list)))\n",
        "print(reduce(lambda acc, item: acc+item, my_list))"
      ],
      "execution_count": null,
      "outputs": [
        {
          "output_type": "stream",
          "text": [
            "[2, 4, 6]\n",
            "6\n"
          ],
          "name": "stdout"
        }
      ]
    },
    {
      "cell_type": "code",
      "metadata": {
        "id": "F2MH-CLgG8hh",
        "colab_type": "code",
        "colab": {
          "base_uri": "https://localhost:8080/",
          "height": 70
        },
        "outputId": "2d41bef5-2368-439d-f61b-4a47d7871e0b"
      },
      "source": [
        "#Exercise: create a lambda expression that squares and prints a list\n",
        "\n",
        "#square\n",
        "my_list = [5,4,3]\n",
        "print(list(map(lambda item: item**2, my_list)))\n",
        "\n",
        "#list sorting by second number\n",
        "a=[(0,2), (4,3), (9,9), (10, -1)]\n",
        "print(a.sort(key=lambda x: x[1]))\n",
        "print(a)"
      ],
      "execution_count": null,
      "outputs": [
        {
          "output_type": "stream",
          "text": [
            "[25, 16, 9]\n",
            "None\n",
            "[(10, -1), (0, 2), (4, 3), (9, 9)]\n"
          ],
          "name": "stdout"
        }
      ]
    },
    {
      "cell_type": "markdown",
      "metadata": {
        "id": "dc3c7iHQN8BU",
        "colab_type": "text"
      },
      "source": [
        "### List Comprehensions\n",
        "\n",
        "A quick way of creating list /set /dict without expressly entering every part"
      ]
    },
    {
      "cell_type": "code",
      "metadata": {
        "id": "HcUFltcQSCUa",
        "colab_type": "code",
        "colab": {
          "base_uri": "https://localhost:8080/",
          "height": 125
        },
        "outputId": "4a3b7ed7-8297-4b4b-a595-8e689567ab85"
      },
      "source": [
        "#You could do it this way\n",
        "\n",
        "my_list = []\n",
        "for char in 'hello':\n",
        "  my_list.append(char)\n",
        "\n",
        "print(my_list)\n",
        "\n",
        "#But it is way faster to do it like this:\n",
        "\n",
        "my_list = [char for char in 'hello']\n",
        "print(my_list)\n",
        "\n",
        "my_list2 = [num for num in range(0,100)]\n",
        "print(my_list2)\n",
        "\n",
        "my_list3 = [num**2 for num in range(0,100)]\n",
        "print(my_list3)\n",
        "\n",
        "my_list4 = [num**2 for num in range(0,100) if num**2 % 2 == 0]\n",
        "print(my_list4)"
      ],
      "execution_count": null,
      "outputs": [
        {
          "output_type": "stream",
          "text": [
            "['h', 'e', 'l', 'l', 'o']\n",
            "['h', 'e', 'l', 'l', 'o']\n",
            "[0, 1, 2, 3, 4, 5, 6, 7, 8, 9, 10, 11, 12, 13, 14, 15, 16, 17, 18, 19, 20, 21, 22, 23, 24, 25, 26, 27, 28, 29, 30, 31, 32, 33, 34, 35, 36, 37, 38, 39, 40, 41, 42, 43, 44, 45, 46, 47, 48, 49, 50, 51, 52, 53, 54, 55, 56, 57, 58, 59, 60, 61, 62, 63, 64, 65, 66, 67, 68, 69, 70, 71, 72, 73, 74, 75, 76, 77, 78, 79, 80, 81, 82, 83, 84, 85, 86, 87, 88, 89, 90, 91, 92, 93, 94, 95, 96, 97, 98, 99]\n",
            "[0, 1, 4, 9, 16, 25, 36, 49, 64, 81, 100, 121, 144, 169, 196, 225, 256, 289, 324, 361, 400, 441, 484, 529, 576, 625, 676, 729, 784, 841, 900, 961, 1024, 1089, 1156, 1225, 1296, 1369, 1444, 1521, 1600, 1681, 1764, 1849, 1936, 2025, 2116, 2209, 2304, 2401, 2500, 2601, 2704, 2809, 2916, 3025, 3136, 3249, 3364, 3481, 3600, 3721, 3844, 3969, 4096, 4225, 4356, 4489, 4624, 4761, 4900, 5041, 5184, 5329, 5476, 5625, 5776, 5929, 6084, 6241, 6400, 6561, 6724, 6889, 7056, 7225, 7396, 7569, 7744, 7921, 8100, 8281, 8464, 8649, 8836, 9025, 9216, 9409, 9604, 9801]\n",
            "[0, 4, 16, 36, 64, 100, 144, 196, 256, 324, 400, 484, 576, 676, 784, 900, 1024, 1156, 1296, 1444, 1600, 1764, 1936, 2116, 2304, 2500, 2704, 2916, 3136, 3364, 3600, 3844, 4096, 4356, 4624, 4900, 5184, 5476, 5776, 6084, 6400, 6724, 7056, 7396, 7744, 8100, 8464, 8836, 9216, 9604]\n"
          ],
          "name": "stdout"
        }
      ]
    },
    {
      "cell_type": "code",
      "metadata": {
        "id": "Os2LPJ1OSpxL",
        "colab_type": "code",
        "colab": {
          "base_uri": "https://localhost:8080/",
          "height": 107
        },
        "outputId": "434441b7-b6cb-4d06-a36c-5f937a5b91d9"
      },
      "source": [
        "#Set comprehensions work the same as lists but using sets\n",
        "my_list = {char for char in 'hello'}\n",
        "print(my_list)\n",
        "\n",
        "my_list2 = {num for num in range(0,100)}\n",
        "print(my_list2)\n",
        "\n",
        "my_list3 = {num**2 for num in range(0,100)}\n",
        "print(my_list3)\n",
        "\n",
        "my_list4 = {num**2 for num in range(0,100) if num**2 % 2 == 0}\n",
        "print(my_list4)"
      ],
      "execution_count": null,
      "outputs": [
        {
          "output_type": "stream",
          "text": [
            "{'e', 'h', 'o', 'l'}\n",
            "{0, 1, 2, 3, 4, 5, 6, 7, 8, 9, 10, 11, 12, 13, 14, 15, 16, 17, 18, 19, 20, 21, 22, 23, 24, 25, 26, 27, 28, 29, 30, 31, 32, 33, 34, 35, 36, 37, 38, 39, 40, 41, 42, 43, 44, 45, 46, 47, 48, 49, 50, 51, 52, 53, 54, 55, 56, 57, 58, 59, 60, 61, 62, 63, 64, 65, 66, 67, 68, 69, 70, 71, 72, 73, 74, 75, 76, 77, 78, 79, 80, 81, 82, 83, 84, 85, 86, 87, 88, 89, 90, 91, 92, 93, 94, 95, 96, 97, 98, 99}\n",
            "{0, 1, 1024, 4096, 4, 9216, 9, 16, 529, 3600, 4624, 25, 36, 2601, 49, 7225, 3136, 64, 576, 1089, 6724, 1600, 2116, 5184, 7744, 9801, 81, 8281, 6241, 100, 625, 121, 4225, 1156, 8836, 3721, 144, 1681, 2704, 5776, 4761, 2209, 676, 169, 3249, 9409, 196, 1225, 5329, 729, 225, 1764, 7396, 6889, 7921, 2809, 256, 2304, 6400, 3844, 4356, 784, 1296, 8464, 289, 3364, 4900, 5929, 1849, 9025, 324, 841, 1369, 2401, 2916, 5476, 361, 3969, 900, 9604, 4489, 400, 1936, 7056, 7569, 3481, 6561, 1444, 8100, 5041, 441, 961, 2500, 6084, 8649, 3025, 484, 2025, 1521, 5625}\n",
            "{0, 256, 1024, 2304, 4, 900, 1156, 3844, 4096, 4356, 8836, 9604, 16, 144, 400, 784, 1296, 1936, 2704, 3600, 4624, 5776, 9216, 36, 676, 1444, 3364, 4900, 8100, 7056, 7744, 64, 576, 1600, 3136, 196, 324, 2116, 2500, 5184, 6084, 6400, 6724, 8464, 100, 484, 1764, 2916, 5476, 7396}\n"
          ],
          "name": "stdout"
        }
      ]
    },
    {
      "cell_type": "code",
      "metadata": {
        "id": "PNmTbgnxUZpL",
        "colab_type": "code",
        "colab": {
          "base_uri": "https://localhost:8080/",
          "height": 52
        },
        "outputId": "3f0cf69c-b67d-45a4-b4d0-7e344f50e52a"
      },
      "source": [
        "#Dict comprehensions\n",
        "simple_dict = {'a': 1,\n",
        "               \"b\": 2}\n",
        "my_dict = {key:value**2 for key,value in simple_dict.items()}\n",
        "\n",
        "print(my_dict)\n",
        "\n",
        "#create a dict using comprehensions\n",
        "\n",
        "my_dict2 = {num:num**2 for num in [1,2,3]}\n",
        "print(my_dict2)"
      ],
      "execution_count": null,
      "outputs": [
        {
          "output_type": "stream",
          "text": [
            "{'a': 1, 'b': 4}\n",
            "{1: 1, 2: 4, 3: 9}\n"
          ],
          "name": "stdout"
        }
      ]
    },
    {
      "cell_type": "markdown",
      "metadata": {
        "id": "FIqYABUnU2x7",
        "colab_type": "text"
      },
      "source": [
        "####Exercise: comprehensions\n",
        "\n",
        "Using comprehensions is there a way to convert the code into a single line?"
      ]
    },
    {
      "cell_type": "code",
      "metadata": {
        "id": "UJHvAyRLWKn9",
        "colab_type": "code",
        "colab": {
          "base_uri": "https://localhost:8080/",
          "height": 52
        },
        "outputId": "447c43ca-2069-43c4-8c49-aed85941d85a"
      },
      "source": [
        "some_list = ['a', 'b', 'c', 'b', 'd', 'm', 'n', 'n']\n",
        "\n",
        "duplicates = []\n",
        "for value in some_list:\n",
        "    if some_list.count(value) > 1:\n",
        "        if value not in duplicates:\n",
        "            duplicates.append(value)\n",
        "\n",
        "print(duplicates)\n",
        "\n",
        "duplicates2 = sorted(list(set([item for item in sorted(some_list) if some_list.count(item) > 1])))\n",
        "print(duplicates2)"
      ],
      "execution_count": null,
      "outputs": [
        {
          "output_type": "stream",
          "text": [
            "['b', 'n']\n",
            "['b', 'n']\n"
          ],
          "name": "stdout"
        }
      ]
    },
    {
      "cell_type": "markdown",
      "metadata": {
        "id": "6CQqSbKcWs1T",
        "colab_type": "text"
      },
      "source": [
        "## Decorators\n",
        "\n",
        "Decorators supercharge our functions adding extra functionality.\n",
        "\n",
        "`@`\n"
      ]
    },
    {
      "cell_type": "code",
      "metadata": {
        "id": "OsjB4HRLb-kJ",
        "colab_type": "code",
        "colab": {
          "base_uri": "https://localhost:8080/",
          "height": 87
        },
        "outputId": "5b06e799-11e1-4f79-ac18-f1d71df54aa2"
      },
      "source": [
        "def hello():\n",
        "  print('hellllllooooo')\n",
        "greet = hello\n",
        "del hello\n",
        "print(greet()) #still works because python deletes the name not the memory since greet is calling that memory\n",
        "\n",
        "def hello(func):\n",
        "  func()\n",
        "def greet():\n",
        "  print('still here')\n",
        "\n",
        "a = hello(greet)\n",
        "print(a)"
      ],
      "execution_count": null,
      "outputs": [
        {
          "output_type": "stream",
          "text": [
            "hellllllooooo\n",
            "None\n",
            "still here\n",
            "None\n"
          ],
          "name": "stdout"
        }
      ]
    },
    {
      "cell_type": "code",
      "metadata": {
        "id": "aBvFLWOUcOIX",
        "colab_type": "code",
        "colab": {}
      },
      "source": [
        "# Higher Order Function HOF\n",
        "\n",
        "# any function that returns a function\n",
        "\n",
        "def greet(func):\n",
        "  func()\n",
        "\n",
        "def greet2():\n",
        "  def func():\n",
        "    return 5\n",
        "  return func"
      ],
      "execution_count": null,
      "outputs": []
    },
    {
      "cell_type": "code",
      "metadata": {
        "id": "6582VUaHeRZo",
        "colab_type": "code",
        "colab": {}
      },
      "source": [
        "#Decorator\n",
        "def \n",
        "\n",
        "def my_decorator(func):\n",
        "  def wrap_func():\n",
        "    func()\n",
        "  return wrap_func\n",
        "\n",
        "\n"
      ],
      "execution_count": null,
      "outputs": []
    }
  ]
}