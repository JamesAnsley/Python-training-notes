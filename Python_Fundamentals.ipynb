{
  "nbformat": 4,
  "nbformat_minor": 0,
  "metadata": {
    "colab": {
      "name": "Python-Fundamentals.ipynb",
      "provenance": [],
      "toc_visible": true,
      "authorship_tag": "ABX9TyMezurpCzrWl2bxAfRiHO+v",
      "include_colab_link": true
    },
    "kernelspec": {
      "name": "python3",
      "display_name": "Python 3"
    }
  },
  "cells": [
    {
      "cell_type": "markdown",
      "metadata": {
        "id": "view-in-github",
        "colab_type": "text"
      },
      "source": [
        "<a href=\"https://colab.research.google.com/github/JamesAnsley/Python-training-notes/blob/master/Python_Fundamentals.ipynb\" target=\"_parent\"><img src=\"https://colab.research.google.com/assets/colab-badge.svg\" alt=\"Open In Colab\"/></a>"
      ]
    },
    {
      "cell_type": "markdown",
      "metadata": {
        "id": "-MWO_0IsIxzw",
        "colab_type": "text"
      },
      "source": [
        "# Python Fundamentals\n",
        "\n",
        "This notebook will contain information and exercises designed to teach and reinforce the fundamentals of Python starting at square one\n"
      ]
    },
    {
      "cell_type": "markdown",
      "metadata": {
        "id": "uoakwdWpJNiA",
        "colab_type": "text"
      },
      "source": [
        "## Fundamental Data Types\n",
        "\n",
        "This section will lay the foundation for the fundamental data types"
      ]
    },
    {
      "cell_type": "markdown",
      "metadata": {
        "id": "SHYz0r0wIsR1",
        "colab_type": "text"
      },
      "source": [
        "### INT and FLOAT\n",
        "\n",
        "INT or integer is a datatype of whole numbers\n",
        "\n",
        "FLOAT or floating point number are numbers with decimals"
      ]
    },
    {
      "cell_type": "code",
      "metadata": {
        "id": "6tPpz_fQJduf",
        "colab_type": "code",
        "colab": {}
      },
      "source": [
        "#Fundamental Data types\n",
        "#INT and FLOAT\n",
        "print(\"INT and FLOAT are useful for doing math\")\n",
        "print(6)\n",
        "print(2+4)\n",
        "print(2-4)\n",
        "print(2*4)\n",
        "print(2/4)\n",
        "\n",
        "print(\"What type of data is shown?\")\n",
        "\n",
        "\n",
        "print(type(6))\n",
        "print(type(2+4))\n",
        "print(type(2-4))\n",
        "print(type(2*4))\n",
        "print(type(2/4))\n",
        "\n",
        "print(2**3) #power of\n",
        "print(5//4) #rounded down to integer\n",
        "print(6%4) #modulo gives remainder"
      ],
      "execution_count": null,
      "outputs": []
    },
    {
      "cell_type": "markdown",
      "metadata": {
        "id": "Sq9XMUG1MSVR",
        "colab_type": "text"
      },
      "source": [
        "####Math Functions\n",
        "\n",
        "There are specific math actions (also called functions) INT and FLOAT can use.\n",
        "\n",
        "`round()` rounds to the nearest number\n",
        "`abs()` finds the absolute value\n",
        "\n",
        "refer to the python documentation to see the whole list of all math functions"
      ]
    },
    {
      "cell_type": "code",
      "metadata": {
        "id": "bPu8e62UKaN2",
        "colab_type": "code",
        "colab": {
          "base_uri": "https://localhost:8080/",
          "height": 68
        },
        "outputId": "42071df9-a712-4759-e5c5-4bddb93e3b2c"
      },
      "source": [
        "print(round(3.1)) #rounds to nearest integer\n",
        "print(round(5.9))\n",
        "print(abs(-20)) #absolute value"
      ],
      "execution_count": null,
      "outputs": [
        {
          "output_type": "stream",
          "text": [
            "3\n",
            "6\n",
            "20\n"
          ],
          "name": "stdout"
        }
      ]
    },
    {
      "cell_type": "markdown",
      "metadata": {
        "id": "1sj4iqWdMvIw",
        "colab_type": "text"
      },
      "source": [
        "#### Operator Precedence\n",
        "Operations are resolved from left to right according to the operator precedence.. Lower precedence operators are never evaluated until all higher precedence ones are resolved\n",
        "1. Parenthesis `()`\n",
        "2. Exponents `**`\n",
        "3. multiplication and division (division, rounded division, remainders) `*`, `/`, `//` and `%`\n",
        "4. addition and subtraction `+` and `-`\n",
        "\n"
      ]
    },
    {
      "cell_type": "code",
      "metadata": {
        "id": "puSnwxSSOyAR",
        "colab_type": "code",
        "colab": {
          "base_uri": "https://localhost:8080/",
          "height": 68
        },
        "outputId": "e67bfaf7-6925-40cf-f621-c0031a14b19a"
      },
      "source": [
        "print(20 + 3 * 4)\n",
        "print(20 - 3 ** 2 /9)\n",
        "print(20-3*4)"
      ],
      "execution_count": null,
      "outputs": [
        {
          "output_type": "stream",
          "text": [
            "32\n",
            "19.0\n",
            "8\n"
          ],
          "name": "stdout"
        }
      ]
    },
    {
      "cell_type": "markdown",
      "metadata": {
        "id": "kJ--ESYxPLo2",
        "colab_type": "text"
      },
      "source": [
        "### Complex and BIN\n",
        "\n",
        "COMPLEX is a third data type. Only used when you need complex numbers (a+bi)\n",
        "\n",
        "BIN() returns the bunary representation of a number (`0b` indicates following nimbers are in binary)"
      ]
    },
    {
      "cell_type": "code",
      "metadata": {
        "id": "q_F_GRW7PJ5g",
        "colab_type": "code",
        "colab": {
          "base_uri": "https://localhost:8080/",
          "height": 51
        },
        "outputId": "c339f3bd-4869-43ee-dc1d-0e98805363e3"
      },
      "source": [
        "print(bin(5))\n",
        "print(int('0b101', 2))"
      ],
      "execution_count": null,
      "outputs": [
        {
          "output_type": "stream",
          "text": [
            "0b101\n",
            "5\n"
          ],
          "name": "stdout"
        }
      ]
    },
    {
      "cell_type": "markdown",
      "metadata": {
        "id": "7Eu_VbSXPvB0",
        "colab_type": "text"
      },
      "source": [
        "### variables and CONSTANTS\n",
        "\n",
        "Variables are ways for us to store information and recall it with a name.\n",
        "Assigning a value is also called binding.\n",
        "\n",
        "Variables are:\n",
        "* snake_case : all lower case and spaces are `_`\n",
        "* start lowercase or `_`\n",
        "* use only letters, numbers, underscores\n",
        "* case sensitive\n",
        "* dont overwrite keywords\n",
        "\n",
        "variable names should be descriptive.\n",
        "\n",
        "Variables can also be reassigned to other variables.\n",
        "\n",
        "`iq = 190` creates a variable named `iq` with a value of 190.\n",
        "\n",
        "CONSTANTS are (usually) predefined. In the convention they are given all upper case names and should not be changed"
      ]
    },
    {
      "cell_type": "code",
      "metadata": {
        "id": "EauYTYSPQL-P",
        "colab_type": "code",
        "colab": {
          "base_uri": "https://localhost:8080/",
          "height": 102
        },
        "outputId": "e5983744-5a70-447e-a8ae-e5b65b8fffb7"
      },
      "source": [
        "iq = 190\n",
        "user_iq=190\n",
        "_user_iq=190\n",
        "us3r_1q=190\n",
        "user_IQ=190\n",
        "\n",
        "print(iq, user_iq, _user_iq, us3r_1q, user_IQ)\n",
        "\n",
        "user_age=iq/4\n",
        "a=user_age\n",
        "\n",
        "print(user_age)\n",
        "print(a)\n",
        "\n",
        "PI=3.14\n",
        "print(PI)\n",
        "PI=0\n",
        "print(PI)"
      ],
      "execution_count": null,
      "outputs": [
        {
          "output_type": "stream",
          "text": [
            "190 190 190 190 190\n",
            "47.5\n",
            "47.5\n",
            "3.14\n",
            "0\n"
          ],
          "name": "stdout"
        }
      ]
    },
    {
      "cell_type": "markdown",
      "metadata": {
        "id": "bSFOlTUgQN-Y",
        "colab_type": "text"
      },
      "source": [
        "### Expressions vs statements\n",
        "\n",
        "Exprerssions are the sarts of the code which create a number\n",
        "Statements are the lines of code"
      ]
    },
    {
      "cell_type": "markdown",
      "metadata": {
        "id": "b821qSGASKeE",
        "colab_type": "text"
      },
      "source": [
        "### Augmented assignment operator\n",
        "\n",
        "Allows you to perform a operation on a variable with reassignment to that same variable"
      ]
    },
    {
      "cell_type": "code",
      "metadata": {
        "id": "2HtjxFWESg4k",
        "colab_type": "code",
        "colab": {
          "base_uri": "https://localhost:8080/",
          "height": 85
        },
        "outputId": "155318a3-9322-4da7-b480-488d230438a6"
      },
      "source": [
        "some_value = 5\n",
        "print(\"some_value is: \" + str(some_value))\n",
        "some_value = some_value+2\n",
        "print(\"some_value = some_value + 2 is: \" + str(some_value))\n",
        "some_value = 5\n",
        "print(\"some_value is: \" +str(some_value))\n",
        "some_value += 2\n",
        "print(\"some_value += 2 is: \" +str(some_value))"
      ],
      "execution_count": null,
      "outputs": [
        {
          "output_type": "stream",
          "text": [
            "some_value is: 5\n",
            "some_value = some_value + 2 is: 7\n",
            "some_value is: 5\n",
            "some_value += 2 is: 7\n"
          ],
          "name": "stdout"
        }
      ]
    },
    {
      "cell_type": "markdown",
      "metadata": {
        "id": "SfZqGCPSS5h4",
        "colab_type": "text"
      },
      "source": [
        "### STR\n",
        "Strings are text.\n",
        "\n",
        "String Concatenation is combining strings\n",
        "\n",
        "Type conversion is the ability to change data types using a function"
      ]
    },
    {
      "cell_type": "code",
      "metadata": {
        "id": "DJ3i5gF1TdJF",
        "colab_type": "code",
        "colab": {
          "base_uri": "https://localhost:8080/",
          "height": 153
        },
        "outputId": "9ab1c8ac-8736-4778-c43f-c927e55c019b"
      },
      "source": [
        "print(type(\"hi hello there!!!\"))\n",
        "username = \"supercoder\"\n",
        "password = 'supersecret'\n",
        "long_string = '''\n",
        "WOW\n",
        "0 0\n",
        "___\n",
        "'''\n",
        "print(long_string)\n",
        "\n",
        "first_name = 'James'\n",
        "last_name = 'Ansley'\n",
        "fullname = first_name + last_name\n",
        "print(fullname)  # notice there is no space lets fix that\n",
        "fullname = first_name + ' ' + last_name\n",
        "print(fullname)\n"
      ],
      "execution_count": null,
      "outputs": [
        {
          "output_type": "stream",
          "text": [
            "<class 'str'>\n",
            "\n",
            "WOW\n",
            "0 0\n",
            "___\n",
            "\n",
            "JamesAnsley\n",
            "James Ansley\n"
          ],
          "name": "stdout"
        }
      ]
    },
    {
      "cell_type": "code",
      "metadata": {
        "id": "m1jsc3GOUrir",
        "colab_type": "code",
        "colab": {
          "base_uri": "https://localhost:8080/",
          "height": 51
        },
        "outputId": "b29c2801-55dd-4df7-c889-2b4054e74876"
      },
      "source": [
        "#What if we run `str()`\n",
        "print(type(str(100)))\n",
        "print(type(int(str(100))))\n",
        "\n",
        "#while silly it is the "
      ],
      "execution_count": null,
      "outputs": [
        {
          "output_type": "stream",
          "text": [
            "<class 'str'>\n",
            "<class 'int'>\n"
          ],
          "name": "stdout"
        }
      ]
    },
    {
      "cell_type": "markdown",
      "metadata": {
        "id": "nOk6AYbqVDWd",
        "colab_type": "text"
      },
      "source": [
        "#### escape sequence\n",
        "\n",
        "These are used to let the interpreter know that whatever comes after this is part of a string. `\\` is the escape character\n",
        "\n",
        "you can use:\n",
        "* `\\t` to tab\n",
        "* `\\n` to create a new line"
      ]
    },
    {
      "cell_type": "code",
      "metadata": {
        "id": "91LeTCa9Vfj8",
        "colab_type": "code",
        "colab": {
          "base_uri": "https://localhost:8080/",
          "height": 51
        },
        "outputId": "ac97fad4-bd8c-4aa6-e6eb-a032a4a9429c"
      },
      "source": [
        "# to make python say `It's \"kind of\" sunny\"\n",
        "weather = \"\\t It\\'s \\\"kind of\\\" sunny. \\n Hope you have a good day!\"\n",
        "\n",
        "print(weather)"
      ],
      "execution_count": null,
      "outputs": [
        {
          "output_type": "stream",
          "text": [
            "\t It's \"kind of\" sunny. \n",
            " Hope you have a good day!\n"
          ],
          "name": "stdout"
        }
      ]
    },
    {
      "cell_type": "markdown",
      "metadata": {
        "id": "AA3kXswiWRkH",
        "colab_type": "text"
      },
      "source": [
        "#### Formatted strings\n",
        "\n",
        "Using `print(f.'strings {variable} string string {variabe}')` will allow you to pull variables into strings automagically\n"
      ]
    },
    {
      "cell_type": "code",
      "metadata": {
        "id": "RUm49u_YWa-C",
        "colab_type": "code",
        "colab": {
          "base_uri": "https://localhost:8080/",
          "height": 51
        },
        "outputId": "1801b17e-03e3-4942-8bfa-7a71929aa532"
      },
      "source": [
        "#formatted strings allow you to dynamically update strings\n",
        "\n",
        "name = 'Johnny'\n",
        "print(\"Hi \" + name)\n",
        "\n",
        "age = 55\n",
        "#print('Hi ' + name + \". You are \" + age + ' years old') will give type error on age\n",
        "# Use formatted strings to get around that\n",
        "print(f'hi {name}. You are {age} years old')"
      ],
      "execution_count": null,
      "outputs": [
        {
          "output_type": "stream",
          "text": [
            "Hi Johnny\n",
            "hi Johnny. You are 55 years old\n"
          ],
          "name": "stdout"
        }
      ]
    },
    {
      "cell_type": "markdown",
      "metadata": {
        "id": "XS5wa9SPWmX7",
        "colab_type": "text"
      },
      "source": [
        "Formatted string exercise here: https://repl.it/@aneagoie/string-formatting#main.py\n"
      ]
    },
    {
      "cell_type": "code",
      "metadata": {
        "id": "h7Xff3miYK6N",
        "colab_type": "code",
        "colab": {
          "base_uri": "https://localhost:8080/",
          "height": 102
        },
        "outputId": "26f9b5ad-246f-4e37-9781-86b58ce67c88"
      },
      "source": [
        "# 1 What would be the output of the below 4 print statements? \n",
        "#Try to answer these before you click RUN!\n",
        "\n",
        "print(\"Hello {}, your balance is {}.\".format(\"Cindy\", 50))\n",
        "#Hello Cindy, your balance is 50\n",
        "print(\"Hello {0}, your balance is {1}.\".format(\"Cindy\", 50))\n",
        "#Hello Cindy, your balance is 50\n",
        "print(\"Hello {name}, your balance is {amount}.\".format(name=\"Cindy\", amount=50))\n",
        "#Hello Cindy, your balance is 50\n",
        "print(\"Hello {0}, your balance is {amount}.\".format(\"Cindy\", amount=50))\n",
        "#Hello Cindy, your balance is 50\n",
        "\n",
        "\n",
        "# 2 How would you write this using f-string? (Scroll down for answer)\n",
        "name = 'Cindy'\n",
        "amount = 50\n",
        "print(f'Hello {name}, your balance is {amount}.')"
      ],
      "execution_count": null,
      "outputs": [
        {
          "output_type": "stream",
          "text": [
            "Hello Cindy, your balance is 50.\n",
            "Hello Cindy, your balance is 50.\n",
            "Hello Cindy, your balance is 50.\n",
            "Hello Cindy, your balance is 50.\n",
            "Hello Cindy, your balance is 50.\n"
          ],
          "name": "stdout"
        }
      ]
    },
    {
      "cell_type": "markdown",
      "metadata": {
        "id": "ynAS8zAtYgcC",
        "colab_type": "text"
      },
      "source": [
        "#### String indexes\n",
        "Strings are stored and indexed from [0]\n",
        "You can slice a string using `[start:stop:stepover]`\n",
        "  stepover is defaulted to one\n",
        "\n",
        "Strings are immutable. You can not change an indexed part of the string. The only way to change a string is to wholly reassign the variable."
      ]
    },
    {
      "cell_type": "code",
      "metadata": {
        "id": "HLMgBF1MZFUS",
        "colab_type": "code",
        "colab": {
          "base_uri": "https://localhost:8080/",
          "height": 136
        },
        "outputId": "9c59f4d2-01e6-433b-e4f8-e2a39f1bb686"
      },
      "source": [
        "selfish = '01234567'\n",
        "          #01234567\n",
        "print(selfish)\n",
        "print(selfish[6])\n",
        "\n",
        "#start/stop\n",
        "print(selfish[0:6])\n",
        "\n",
        "#stepover\n",
        "print(selfish[1:])\n",
        "print(selfish[:5])\n",
        "print(selfish[-1::]) # start at end of string\n",
        "print(selfish[::-1]) # reverse the string"
      ],
      "execution_count": null,
      "outputs": [
        {
          "output_type": "stream",
          "text": [
            "01234567\n",
            "6\n",
            "012345\n",
            "1234567\n",
            "01234\n",
            "7\n",
            "76543210\n"
          ],
          "name": "stdout"
        }
      ]
    },
    {
      "cell_type": "markdown",
      "metadata": {
        "id": "suYcd7QpZUek",
        "colab_type": "text"
      },
      "source": [
        "String indexes exercise here: https://repl.it/@aneagoie/string-indexes#main.py\n",
        "\n"
      ]
    },
    {
      "cell_type": "code",
      "metadata": {
        "id": "xD7Qo9SRacJY",
        "colab_type": "code",
        "colab": {
          "base_uri": "https://localhost:8080/",
          "height": 170
        },
        "outputId": "7ce85f33-70d6-409d-f7bd-9e00a7cac136"
      },
      "source": [
        "#Guess the output of each print statement before you click RUN!\n",
        "python = 'I am PYHTON'\n",
        "\n",
        "print(python[1:4])\n",
        "#print(\" am \")\n",
        "print(python[1:])\n",
        "#print(' am PYHTON')\n",
        "print(python[:])\n",
        "#print('I am PYHTON')\n",
        "print(python[1:100])\n",
        "#print(' am PYHTON')\n",
        "print(python[-1])\n",
        "#print(\"N\")\n",
        "print(python[-4])\n",
        "#print(\"H\")\n",
        "print(python[:-3])\n",
        "#print('I am PYH')\n",
        "print(python[-3:])\n",
        "#print('TON')\n",
        "print(python[::-1])\n",
        "#print('NOTHYP MA I')"
      ],
      "execution_count": null,
      "outputs": [
        {
          "output_type": "stream",
          "text": [
            " am\n",
            " am PYHTON\n",
            "I am PYHTON\n",
            " am PYHTON\n",
            "N\n",
            "H\n",
            "I am PYH\n",
            "TON\n",
            "NOTHYP ma I\n"
          ],
          "name": "stdout"
        }
      ]
    },
    {
      "cell_type": "markdown",
      "metadata": {
        "id": "NzuwCWERazAE",
        "colab_type": "text"
      },
      "source": [
        "#### Built in functions and methods\n",
        "\n",
        "There are built in functions for Strings\n",
        "\n",
        "`len()` is quite usefull as it counts, like a human does, the length of the string\n",
        "\n",
        "There are also methods which can be used:\n",
        "* `.f` is a useful method for formatting everything for a sting\n",
        "* `.upper()` is used to create all uppercase\n",
        "* `.capitalize` capitalizes the first letter\n",
        "* `.find()` finds the index of the first occurance you are looking for\n",
        "* `.replace(old, new)` replaces all the occurances of old with new\n",
        "\n",
        "remember that strings are immutable. the methods will not replace the string unless it is assigned to a variable"
      ]
    },
    {
      "cell_type": "code",
      "metadata": {
        "id": "y9Tzkg1XajuK",
        "colab_type": "code",
        "colab": {
          "base_uri": "https://localhost:8080/",
          "height": 136
        },
        "outputId": "d465afe7-52d4-4be3-b503-72b1bc99b87d"
      },
      "source": [
        "greet = 'hellllooo'\n",
        "print(len(greet))\n",
        "print(greet[0:len(greet)])\n",
        "\n",
        "\n",
        "#methods\n",
        "quote = 'to be or not to be'\n",
        "print(quote.upper())\n",
        "print(quote.capitalize())\n",
        "print(quote.find('be'))\n",
        "print(quote.replace('be', 'me'))\n",
        "print(quote)"
      ],
      "execution_count": null,
      "outputs": [
        {
          "output_type": "stream",
          "text": [
            "9\n",
            "hellllooo\n",
            "TO BE OR NOT TO BE\n",
            "To be or not to be\n",
            "3\n",
            "to me or not to me\n",
            "to be or not to be\n"
          ],
          "name": "stdout"
        }
      ]
    },
    {
      "cell_type": "markdown",
      "metadata": {
        "id": "fbm_IbSzcf56",
        "colab_type": "text"
      },
      "source": [
        "### bool\n",
        "\n",
        "booleans can be either `True` or `False` (`1` or `0`)\n",
        "They are useful for logical operations\n",
        "\n"
      ]
    },
    {
      "cell_type": "code",
      "metadata": {
        "id": "V95B2THzeDD-",
        "colab_type": "code",
        "colab": {
          "base_uri": "https://localhost:8080/",
          "height": 68
        },
        "outputId": "5fe6a1f3-bced-4b5d-abc2-6c1484d91567"
      },
      "source": [
        "name = \"James\"\n",
        "is_cool = False\n",
        "\n",
        "is_cool = True\n",
        "\n",
        "print(bool(0))\n",
        "print(bool(1))\n",
        "print(bool(2))"
      ],
      "execution_count": null,
      "outputs": [
        {
          "output_type": "stream",
          "text": [
            "False\n",
            "True\n",
            "True\n"
          ],
          "name": "stdout"
        }
      ]
    },
    {
      "cell_type": "markdown",
      "metadata": {
        "id": "SDgIQ8kteTzt",
        "colab_type": "text"
      },
      "source": [
        "Exercise: type conversion"
      ]
    },
    {
      "cell_type": "code",
      "metadata": {
        "id": "XNjCDs4fetXH",
        "colab_type": "code",
        "colab": {
          "base_uri": "https://localhost:8080/",
          "height": 85
        },
        "outputId": "8adc2193-70fc-497b-cdda-dbcfbadcf2f1"
      },
      "source": [
        "#how does a SM work?\n",
        "name = 'James'\n",
        "age = 30\n",
        "relationship_status = 'single'\n",
        "print(relationship_status)\n",
        "#but james gets in a complicated thing\n",
        "relationship_status = 'It\\'s complicated'\n",
        "print(relationship_status)\n",
        "\n",
        "#CALCULATE AGE BY ASKING FOR BIRTH YEAR\n",
        "\n",
        "birth_year = input('what year were you born?')\n",
        "age = 2020 - int(birth_year)\n",
        "print(f\"You're age is {age}\")"
      ],
      "execution_count": null,
      "outputs": [
        {
          "output_type": "stream",
          "text": [
            "single\n",
            "It's complicated\n",
            "what year were you born?1989\n",
            "You're age is 31\n"
          ],
          "name": "stdout"
        }
      ]
    },
    {
      "cell_type": "markdown",
      "metadata": {
        "id": "C24vpQWGe_-Y",
        "colab_type": "text"
      },
      "source": [
        "### PASSWORD CHECKER EXERCISE\n",
        "\n",
        "We are goign to build a password checker that asks for a username and password and responds with the password length, hiding the password using stars."
      ]
    },
    {
      "cell_type": "code",
      "metadata": {
        "id": "mzEVY_pjgc3S",
        "colab_type": "code",
        "colab": {
          "base_uri": "https://localhost:8080/",
          "height": 68
        },
        "outputId": "c1528906-65c9-49d9-859a-ce325f27dfdf"
      },
      "source": [
        "username = input('What is your username: ')\n",
        "password = input('What is your password: ')\n",
        "hidden_password = '*' * len(password)\n",
        "password_length = len(password)\n",
        "\n",
        "\n",
        "print(f'Hello {username}, your password {hidden_password} is {password_length} characters long')"
      ],
      "execution_count": null,
      "outputs": [
        {
          "output_type": "stream",
          "text": [
            "What is your username: hjlkbk,\n",
            "What is your password: sjdbflasbjdflk,absjdklf\n",
            "Hello hjlkbk,, your password *********************** is 23 characters long\n"
          ],
          "name": "stdout"
        }
      ]
    },
    {
      "cell_type": "markdown",
      "metadata": {
        "id": "sUqSn8eEgl8U",
        "colab_type": "text"
      },
      "source": [
        "### Lists\n",
        "\n",
        "Lists are denoted by square brackets `[]`\n",
        "\n",
        "Lists are a datastructure which uses arrays to store lists of independent values. Lists can hold a mix of data types\n",
        "\n",
        "Because lists are indexed you can see "
      ]
    },
    {
      "cell_type": "code",
      "metadata": {
        "id": "IO-DgVMVh7yl",
        "colab_type": "code",
        "colab": {
          "base_uri": "https://localhost:8080/",
          "height": 51
        },
        "outputId": "68eba0fa-6148-4388-9e7d-56b536f9997c"
      },
      "source": [
        "li = [1,2,3,4,5]\n",
        "li2 = ['a', 'b', 'c', 'd', 'e']\n",
        "li3 = [1,2,'a',True]\n",
        "\n",
        "amazon_cart = ['notebooks', 'sunglasses']\n",
        "print(amazon_cart[0])\n",
        "print(amazon_cart[1])"
      ],
      "execution_count": null,
      "outputs": [
        {
          "output_type": "stream",
          "text": [
            "notebooks\n",
            "sunglasses\n"
          ],
          "name": "stdout"
        }
      ]
    },
    {
      "cell_type": "markdown",
      "metadata": {
        "id": "9AIp6oNRidnU",
        "colab_type": "text"
      },
      "source": [
        "List Slicing"
      ]
    },
    {
      "cell_type": "code",
      "metadata": {
        "id": "pS1UkefUn9vp",
        "colab_type": "code",
        "colab": {
          "base_uri": "https://localhost:8080/",
          "height": 153
        },
        "outputId": "c00133e4-1670-42db-adc4-92faae6e5033"
      },
      "source": [
        "amazon_cart = [\"notebooks\",\n",
        "               \"sun glasses\",\n",
        "               \"toys\",\n",
        "               \"grapes\"]\n",
        "print(amazon_cart[0:2])\n",
        "amazon_cart[0] = \"laptop\"\n",
        "print(amazon_cart)\n",
        "print(amazon_cart[1:3])\n",
        "print(amazon_cart) #list splicing is temporary unless assigned to a new list\n",
        "new_cart = amazon_cart #modifys the list\n",
        "new_cart[0] = 'gum' \n",
        "print(new_cart)\n",
        "print(amazon_cart) #why did the amazon cart get changed? Because new cart = amazon cart we are saying \"new cart is whatever amazon_cart is\" if we change new cart then amazon cart also changes!\n",
        "\n",
        "amazon_cart[0] = 'laptop'\n",
        "new_cart = amazon_cart[:] #this actually copies the list\n",
        "new_cart[0] = \"gum\"\n",
        "print( amazon_cart)\n",
        "print(new_cart)\n"
      ],
      "execution_count": null,
      "outputs": [
        {
          "output_type": "stream",
          "text": [
            "['notebooks', 'sun glasses']\n",
            "['laptop', 'sun glasses', 'toys', 'grapes']\n",
            "['sun glasses', 'toys']\n",
            "['laptop', 'sun glasses', 'toys', 'grapes']\n",
            "['gum', 'sun glasses', 'toys', 'grapes']\n",
            "['gum', 'sun glasses', 'toys', 'grapes']\n",
            "['laptop', 'sun glasses', 'toys', 'grapes']\n",
            "['gum', 'sun glasses', 'toys', 'grapes']\n"
          ],
          "name": "stdout"
        }
      ]
    },
    {
      "cell_type": "markdown",
      "metadata": {
        "id": "sLBRegHoomiY",
        "colab_type": "text"
      },
      "source": [
        "#### List exercise from https://repl.it/@aneagoie/lists"
      ]
    },
    {
      "cell_type": "code",
      "metadata": {
        "id": "XXGoqLMBpq2a",
        "colab_type": "code",
        "colab": {
          "base_uri": "https://localhost:8080/",
          "height": 119
        },
        "outputId": "d2456717-672b-4a3d-ffc5-f1eb133c0a3e"
      },
      "source": [
        "#What is the output of this code?\n",
        "#Before you clikc RUN, guess the output of each print statement!\n",
        "new_list = ['a', 'b', 'c']\n",
        "print(new_list[1]) #'b'\n",
        "print(new_list[-2]) #'b'\n",
        "print(new_list[1:3])#bc\n",
        "new_list[0] = 'z'\n",
        "print(new_list) #z,b,c\n",
        "\n",
        "my_list = [1,2,3]\n",
        "bonus = my_list + [5]\n",
        "my_list[0] = 'z'\n",
        "print(my_list) #z23\n",
        "print(bonus) #z235"
      ],
      "execution_count": null,
      "outputs": [
        {
          "output_type": "stream",
          "text": [
            "b\n",
            "b\n",
            "['b', 'c']\n",
            "['z', 'b', 'c']\n",
            "['z', 2, 3]\n",
            "[1, 2, 3, 5]\n"
          ],
          "name": "stdout"
        }
      ]
    },
    {
      "cell_type": "markdown",
      "metadata": {
        "id": "78zISKdlp9Wh",
        "colab_type": "text"
      },
      "source": [
        "#### Matrix\n",
        "\n",
        "Simply put a matrix is an array of array\n",
        "`[[]]`\n",
        "\n",
        "for example photos are often multiple dimensional arrays. Each pixel is an array with multiple variables, at least one for each color.\n"
      ]
    },
    {
      "cell_type": "code",
      "metadata": {
        "id": "LAumlapXqHzW",
        "colab_type": "code",
        "colab": {
          "base_uri": "https://localhost:8080/",
          "height": 34
        },
        "outputId": "01e0fb33-024d-46f0-aebe-081ebab675c1"
      },
      "source": [
        "matrix = [\n",
        "          [1,2,3],\n",
        "          [4,5,6],\n",
        "          [7,8,9]\n",
        "]\n",
        "\n",
        "print(matrix[0][1])\n",
        "    #acces the first item/array, then access the second item of that first array"
      ],
      "execution_count": null,
      "outputs": [
        {
          "output_type": "stream",
          "text": [
            "2\n"
          ],
          "name": "stdout"
        }
      ]
    },
    {
      "cell_type": "markdown",
      "metadata": {
        "id": "WG7wL1FztPov",
        "colab_type": "text"
      },
      "source": [
        "Matrix ecercise"
      ]
    },
    {
      "cell_type": "code",
      "metadata": {
        "id": "Hbw-LFG_tOmD",
        "colab_type": "code",
        "colab": {
          "base_uri": "https://localhost:8080/",
          "height": 34
        },
        "outputId": "4922abe5-db1b-4402-b4b9-17dc799e0959"
      },
      "source": [
        "# using this list: \n",
        "basket = [\"Banana\", [\"Apples\", [\"Oranges\"], \"Blueberries\"]];\n",
        "# access \"Oranges\" and print it:\n",
        "# You will find the answer if you scroll down to the bottom, but attempt it yourself first!\n",
        "\n",
        "print(basket[1][1][0])"
      ],
      "execution_count": null,
      "outputs": [
        {
          "output_type": "stream",
          "text": [
            "Oranges\n"
          ],
          "name": "stdout"
        }
      ]
    },
    {
      "cell_type": "markdown",
      "metadata": {
        "id": "DMJiTajWqt6t",
        "colab_type": "text"
      },
      "source": [
        "#### Built in methods\n",
        "\n",
        "remember that you can use built in functions using `.function()`"
      ]
    },
    {
      "cell_type": "code",
      "metadata": {
        "id": "Simq-kx9rNDi",
        "colab_type": "code",
        "colab": {
          "base_uri": "https://localhost:8080/",
          "height": 221
        },
        "outputId": "c5bd4333-1cec-4b40-9cf9-fb4700100775"
      },
      "source": [
        "basket = [1,2,3,4,5]\n",
        "new_list = []\n",
        "#adding\n",
        "new_list = basket.append(100)\n",
        "print(basket)\n",
        "print(new_list) # seems backwards, but .append only works inplace\n",
        "# to actually add 100 to the end of new list we need to:\n",
        "\n",
        "basket = [1,2,3,4,5]\n",
        "new_list = []\n",
        "basket.append(100)\n",
        "new_list=basket\n",
        "print(basket)\n",
        "print(new_list)\n",
        "\n",
        "basket = [1,2,3,4,5]\n",
        "new_list = []\n",
        "basket.insert(4,100)\n",
        "new_list=basket\n",
        "print(basket)\n",
        "print(new_list)\n",
        "\n",
        "basket = [1,2,3,4,5]\n",
        "new_list = []\n",
        "new_list=basket.extend([100,101])\n",
        "print(basket)\n",
        "print(new_list)\n",
        "\n",
        "#removing\n",
        "basket.pop()\n",
        "print(basket)\n",
        "basket.pop(0)\n",
        "print(basket)\n",
        "\n",
        "basket = [1,2,3,4,5]\n",
        "basket.remove(4) #remove works in place\n",
        "new_list\n",
        "print(basket)\n",
        "print(new_list)"
      ],
      "execution_count": null,
      "outputs": [
        {
          "output_type": "stream",
          "text": [
            "[1, 2, 3, 4, 5, 100]\n",
            "None\n",
            "[1, 2, 3, 4, 5, 100]\n",
            "[1, 2, 3, 4, 5, 100]\n",
            "[1, 2, 3, 4, 100, 5]\n",
            "[1, 2, 3, 4, 100, 5]\n",
            "[1, 2, 3, 4, 5, 100, 101]\n",
            "None\n",
            "[1, 2, 3, 4, 5, 100]\n",
            "[2, 3, 4, 5, 100]\n",
            "[1, 2, 3, 5]\n",
            "None\n"
          ],
          "name": "stdout"
        }
      ]
    },
    {
      "cell_type": "code",
      "metadata": {
        "id": "bkS7cNlerYna",
        "colab_type": "code",
        "colab": {}
      },
      "source": [
        ""
      ],
      "execution_count": null,
      "outputs": []
    }
  ]
}