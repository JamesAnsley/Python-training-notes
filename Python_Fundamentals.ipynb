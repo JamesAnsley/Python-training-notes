{
  "nbformat": 4,
  "nbformat_minor": 0,
  "metadata": {
    "colab": {
      "name": "Python-Fundamentals.ipynb",
      "provenance": [],
      "toc_visible": true,
      "authorship_tag": "ABX9TyMIk4Y3jmqmI886ennsgMSY",
      "include_colab_link": true
    },
    "kernelspec": {
      "name": "python3",
      "display_name": "Python 3"
    }
  },
  "cells": [
    {
      "cell_type": "markdown",
      "metadata": {
        "id": "view-in-github",
        "colab_type": "text"
      },
      "source": [
        "<a href=\"https://colab.research.google.com/github/JamesAnsley/Python-training-notes/blob/master/Python_Fundamentals.ipynb\" target=\"_parent\"><img src=\"https://colab.research.google.com/assets/colab-badge.svg\" alt=\"Open In Colab\"/></a>"
      ]
    },
    {
      "cell_type": "markdown",
      "metadata": {
        "id": "-MWO_0IsIxzw",
        "colab_type": "text"
      },
      "source": [
        "# Python Fundamentals\n",
        "\n",
        "This notebook will contain information and exercises designed to teach and reinforce the fundamentals of Python starting at square one\n"
      ]
    },
    {
      "cell_type": "markdown",
      "metadata": {
        "id": "uoakwdWpJNiA",
        "colab_type": "text"
      },
      "source": [
        "## Fundamental Data Types\n",
        "\n",
        "This section will lay the foundation for the fundamental data types"
      ]
    },
    {
      "cell_type": "markdown",
      "metadata": {
        "id": "SHYz0r0wIsR1",
        "colab_type": "text"
      },
      "source": [
        "### INT and FLOAT\n",
        "\n",
        "INT or integer is a datatype of whole numbers\n",
        "\n",
        "FLOAT or floating point number are numbers with decimals"
      ]
    },
    {
      "cell_type": "code",
      "metadata": {
        "id": "6tPpz_fQJduf",
        "colab_type": "code",
        "colab": {
          "base_uri": "https://localhost:8080/",
          "height": 277
        },
        "outputId": "88aed43a-783c-499f-a3da-567cc6d4396f"
      },
      "source": [
        "#Fundamental Data types\n",
        "#INT and FLOAT\n",
        "print(\"INT and FLOAT are useful for doing math\")\n",
        "print(6)\n",
        "print(2+4)\n",
        "print(2-4)\n",
        "print(2*4)\n",
        "print(2/4)\n",
        "\n",
        "print(\"What type of data is shown?\")\n",
        "\n",
        "\n",
        "print(type(6))\n",
        "print(type(2+4))\n",
        "print(type(2-4))\n",
        "print(type(2*4))\n",
        "print(type(2/4))\n",
        "\n",
        "print(2**3) #power of\n",
        "print(5//4) #rounded down to integer\n",
        "print(6%4) #modulo gives remainder"
      ],
      "execution_count": null,
      "outputs": [
        {
          "output_type": "stream",
          "text": [
            "INT and FLOAT are useful for doing math\n",
            "6\n",
            "6\n",
            "-2\n",
            "8\n",
            "0.5\n",
            "What type of data is shown?\n",
            "<class 'int'>\n",
            "<class 'int'>\n",
            "<class 'int'>\n",
            "<class 'int'>\n",
            "<class 'float'>\n",
            "8\n",
            "1\n",
            "2\n"
          ],
          "name": "stdout"
        }
      ]
    },
    {
      "cell_type": "markdown",
      "metadata": {
        "id": "Sq9XMUG1MSVR",
        "colab_type": "text"
      },
      "source": [
        "####Math Functions\n",
        "\n",
        "There are specific math actions (also called functions) INT and FLOAT can use.\n",
        "\n",
        "`round()` rounds to the nearest number\n",
        "`abs()` finds the absolute value\n",
        "\n",
        "refer to the python documentation to see the whole list of all math functions"
      ]
    },
    {
      "cell_type": "code",
      "metadata": {
        "id": "bPu8e62UKaN2",
        "colab_type": "code",
        "colab": {
          "base_uri": "https://localhost:8080/",
          "height": 69
        },
        "outputId": "0f147302-2b91-40aa-dc47-e2030f930ba3"
      },
      "source": [
        "print(round(3.1)) #rounds to nearest integer\n",
        "print(round(5.9))\n",
        "print(abs(-20)) #absolute value"
      ],
      "execution_count": null,
      "outputs": [
        {
          "output_type": "stream",
          "text": [
            "3\n",
            "6\n",
            "20\n"
          ],
          "name": "stdout"
        }
      ]
    },
    {
      "cell_type": "markdown",
      "metadata": {
        "id": "1sj4iqWdMvIw",
        "colab_type": "text"
      },
      "source": [
        "#### Operator Precedence\n",
        "Operations are resolved from left to right according to the operator precedence.. Lower precedence operators are never evaluated until all higher precedence ones are resolved\n",
        "1. Parenthesis `()`\n",
        "2. Exponents `**`\n",
        "3. multiplication and division (division, rounded division, remainders) `*`, `/`, `//` and `%`\n",
        "4. addition and subtraction `+` and `-`\n",
        "\n"
      ]
    },
    {
      "cell_type": "code",
      "metadata": {
        "id": "puSnwxSSOyAR",
        "colab_type": "code",
        "colab": {
          "base_uri": "https://localhost:8080/",
          "height": 69
        },
        "outputId": "f06639a9-4fe2-46b6-e32a-a6a80002c88f"
      },
      "source": [
        "print(20 + 3 * 4)\n",
        "print(20 - 3 ** 2 /9)\n",
        "print(20-3*4)"
      ],
      "execution_count": null,
      "outputs": [
        {
          "output_type": "stream",
          "text": [
            "32\n",
            "19.0\n",
            "8\n"
          ],
          "name": "stdout"
        }
      ]
    },
    {
      "cell_type": "markdown",
      "metadata": {
        "id": "kJ--ESYxPLo2",
        "colab_type": "text"
      },
      "source": [
        "### Complex and BIN\n",
        "\n",
        "COMPLEX is a third data type. Only used when you need complex numbers (a+bi)\n",
        "\n",
        "BIN() returns the bunary representation of a number (`0b` indicates following nimbers are in binary)"
      ]
    },
    {
      "cell_type": "code",
      "metadata": {
        "id": "q_F_GRW7PJ5g",
        "colab_type": "code",
        "colab": {
          "base_uri": "https://localhost:8080/",
          "height": 52
        },
        "outputId": "74c6aa36-34f1-460d-866e-d40f1bad8456"
      },
      "source": [
        "print(bin(5))\n",
        "print(int('0b101', 2))"
      ],
      "execution_count": null,
      "outputs": [
        {
          "output_type": "stream",
          "text": [
            "0b101\n",
            "5\n"
          ],
          "name": "stdout"
        }
      ]
    },
    {
      "cell_type": "markdown",
      "metadata": {
        "id": "7Eu_VbSXPvB0",
        "colab_type": "text"
      },
      "source": [
        "### variables and CONSTANTS\n",
        "\n",
        "Variables are ways for us to store information and recall it with a name.\n",
        "Assigning a value is also called binding.\n",
        "\n",
        "Variables are:\n",
        "* snake_case : all lower case and spaces are `_`\n",
        "* start lowercase or `_`\n",
        "* use only letters, numbers, underscores\n",
        "* case sensitive\n",
        "* dont overwrite keywords\n",
        "\n",
        "variable names should be descriptive.\n",
        "\n",
        "Variables can also be reassigned to other variables.\n",
        "\n",
        "`iq = 190` creates a variable named `iq` with a value of 190.\n",
        "\n",
        "CONSTANTS are (usually) predefined. In the convention they are given all upper case names and should not be changed"
      ]
    },
    {
      "cell_type": "code",
      "metadata": {
        "id": "EauYTYSPQL-P",
        "colab_type": "code",
        "colab": {
          "base_uri": "https://localhost:8080/",
          "height": 104
        },
        "outputId": "8c71c179-1513-4051-c899-732ca6db1888"
      },
      "source": [
        "iq = 190\n",
        "user_iq=190\n",
        "_user_iq=190\n",
        "us3r_1q=190\n",
        "user_IQ=190\n",
        "\n",
        "print(iq, user_iq, _user_iq, us3r_1q, user_IQ)\n",
        "\n",
        "user_age=iq/4\n",
        "a=user_age\n",
        "\n",
        "print(user_age)\n",
        "print(a)\n",
        "\n",
        "PI=3.14\n",
        "print(PI)\n",
        "PI=0\n",
        "print(PI)"
      ],
      "execution_count": null,
      "outputs": [
        {
          "output_type": "stream",
          "text": [
            "190 190 190 190 190\n",
            "47.5\n",
            "47.5\n",
            "3.14\n",
            "0\n"
          ],
          "name": "stdout"
        }
      ]
    },
    {
      "cell_type": "markdown",
      "metadata": {
        "id": "bSFOlTUgQN-Y",
        "colab_type": "text"
      },
      "source": [
        "### Expressions vs statements\n",
        "\n",
        "Exprerssions are the sarts of the code which create a number\n",
        "Statements are the lines of code"
      ]
    },
    {
      "cell_type": "markdown",
      "metadata": {
        "id": "b821qSGASKeE",
        "colab_type": "text"
      },
      "source": [
        "### Augmented assignment operator\n",
        "\n",
        "Allows you to perform a operation on a variable with reassignment to that same variable"
      ]
    },
    {
      "cell_type": "code",
      "metadata": {
        "id": "2HtjxFWESg4k",
        "colab_type": "code",
        "colab": {
          "base_uri": "https://localhost:8080/",
          "height": 87
        },
        "outputId": "2424a65c-97aa-4a81-9036-e1ff5a01651a"
      },
      "source": [
        "some_value = 5\n",
        "print(\"some_value is: \" + str(some_value))\n",
        "some_value = some_value+2\n",
        "print(\"some_value = some_value + 2 is: \" + str(some_value))\n",
        "some_value = 5\n",
        "print(\"some_value is: \" +str(some_value))\n",
        "some_value += 2\n",
        "print(\"some_value += 2 is: \" +str(some_value))"
      ],
      "execution_count": null,
      "outputs": [
        {
          "output_type": "stream",
          "text": [
            "some_value is: 5\n",
            "some_value = some_value + 2 is: 7\n",
            "some_value is: 5\n",
            "some_value += 2 is: 7\n"
          ],
          "name": "stdout"
        }
      ]
    },
    {
      "cell_type": "markdown",
      "metadata": {
        "id": "SfZqGCPSS5h4",
        "colab_type": "text"
      },
      "source": [
        "### STR\n",
        "Strings are text.\n",
        "\n",
        "String Concatenation is combining strings\n",
        "\n",
        "Type conversion is the ability to change data types using a function"
      ]
    },
    {
      "cell_type": "code",
      "metadata": {
        "id": "DJ3i5gF1TdJF",
        "colab_type": "code",
        "colab": {
          "base_uri": "https://localhost:8080/"
        },
        "outputId": "1b5150f8-55b6-4f6b-fecb-7262c2ba8582"
      },
      "source": [
        "print(type(\"hi hello there!!!\"))\n",
        "username = \"supercoder\"\n",
        "password = 'supersecret'\n",
        "long_string = '''\n",
        "WOW\n",
        "0 0\n",
        "___\n",
        "'''\n",
        "print(long_string)\n",
        "\n",
        "first_name = 'James'\n",
        "last_name = 'Ansley'\n",
        "fullname = first_name + last_name\n",
        "print(fullname)  # notice there is no space lets fix that\n",
        "fullname = first_name + ' ' + last_name\n",
        "print(fullname)\n"
      ],
      "execution_count": null,
      "outputs": [
        {
          "output_type": "stream",
          "text": [
            "<class 'str'>\n",
            "\n",
            "WOW\n",
            "0 0\n",
            "___\n",
            "\n",
            "JamesAnsley\n",
            "James Ansley\n"
          ],
          "name": "stdout"
        }
      ]
    },
    {
      "cell_type": "code",
      "metadata": {
        "id": "m1jsc3GOUrir",
        "colab_type": "code",
        "colab": {
          "base_uri": "https://localhost:8080/"
        },
        "outputId": "e509ce03-8db5-464c-b4af-12ba7c723e8e"
      },
      "source": [
        "#What if we run `str()`\n",
        "print(type(str(100)))\n",
        "print(type(int(str(100))))\n",
        "\n",
        "#while silly it is the "
      ],
      "execution_count": null,
      "outputs": [
        {
          "output_type": "stream",
          "text": [
            "<class 'str'>\n",
            "<class 'int'>\n"
          ],
          "name": "stdout"
        }
      ]
    },
    {
      "cell_type": "markdown",
      "metadata": {
        "id": "nOk6AYbqVDWd",
        "colab_type": "text"
      },
      "source": [
        "#### escape sequence\n",
        "\n",
        "These are used to let the interpreter know that whatever comes after this is part of a string. `\\` is the escape character\n",
        "\n",
        "you can use:\n",
        "* `\\t` to tab\n",
        "* `\\n` to create a new line"
      ]
    },
    {
      "cell_type": "code",
      "metadata": {
        "id": "91LeTCa9Vfj8",
        "colab_type": "code",
        "colab": {
          "base_uri": "https://localhost:8080/"
        },
        "outputId": "9a5eef0a-760a-4498-fc0b-c62b571ee33c"
      },
      "source": [
        "# to make python say `It's \"kind of\" sunny\"\n",
        "weather = \"\\t It\\'s \\\"kind of\\\" sunny. \\n Hope you have a good day!\"\n",
        "\n",
        "print(weather)"
      ],
      "execution_count": null,
      "outputs": [
        {
          "output_type": "stream",
          "text": [
            "\t It's \"kind of\" sunny. \n",
            " Hope you have a good day!\n"
          ],
          "name": "stdout"
        }
      ]
    },
    {
      "cell_type": "markdown",
      "metadata": {
        "id": "AA3kXswiWRkH",
        "colab_type": "text"
      },
      "source": [
        "#### Formatted strings\n",
        "\n",
        "Using `print(f.'strings {variable} string string {variabe}')` will allow you to pull variables into strings automagically\n"
      ]
    },
    {
      "cell_type": "code",
      "metadata": {
        "id": "RUm49u_YWa-C",
        "colab_type": "code",
        "colab": {
          "base_uri": "https://localhost:8080/"
        },
        "outputId": "8ee15941-eb82-4418-8dca-0ee1da4aece8"
      },
      "source": [
        "#formatted strings allow you to dynamically update strings\n",
        "\n",
        "name = 'Johnny'\n",
        "print(\"Hi \" + name)\n",
        "\n",
        "age = 55\n",
        "#print('Hi ' + name + \". You are \" + age + ' years old') will give type error on age\n",
        "# Use formatted strings to get around that\n",
        "print(f'hi {name}. You are {age} years old')"
      ],
      "execution_count": null,
      "outputs": [
        {
          "output_type": "stream",
          "text": [
            "Hi Johnny\n",
            "hi Johnny. You are 55 years old\n"
          ],
          "name": "stdout"
        }
      ]
    },
    {
      "cell_type": "markdown",
      "metadata": {
        "id": "XS5wa9SPWmX7",
        "colab_type": "text"
      },
      "source": [
        "Formatted string exercise here: https://repl.it/@aneagoie/string-formatting#main.py\n"
      ]
    },
    {
      "cell_type": "code",
      "metadata": {
        "id": "h7Xff3miYK6N",
        "colab_type": "code",
        "colab": {
          "base_uri": "https://localhost:8080/"
        },
        "outputId": "a80717d8-baf0-4d33-b0c4-7ffb9a2acddf"
      },
      "source": [
        "# 1 What would be the output of the below 4 print statements? \n",
        "#Try to answer these before you click RUN!\n",
        "\n",
        "print(\"Hello {}, your balance is {}.\".format(\"Cindy\", 50))\n",
        "#Hello Cindy, your balance is 50\n",
        "print(\"Hello {0}, your balance is {1}.\".format(\"Cindy\", 50))\n",
        "#Hello Cindy, your balance is 50\n",
        "print(\"Hello {name}, your balance is {amount}.\".format(name=\"Cindy\", amount=50))\n",
        "#Hello Cindy, your balance is 50\n",
        "print(\"Hello {0}, your balance is {amount}.\".format(\"Cindy\", amount=50))\n",
        "#Hello Cindy, your balance is 50\n",
        "\n",
        "\n",
        "# 2 How would you write this using f-string? (Scroll down for answer)\n",
        "name = 'Cindy'\n",
        "amount = 50\n",
        "print(f'Hello {name}, your balance is {amount}.')"
      ],
      "execution_count": null,
      "outputs": [
        {
          "output_type": "stream",
          "text": [
            "Hello Cindy, your balance is 50.\n",
            "Hello Cindy, your balance is 50.\n",
            "Hello Cindy, your balance is 50.\n",
            "Hello Cindy, your balance is 50.\n",
            "Hello Cindy, your balance is 50.\n"
          ],
          "name": "stdout"
        }
      ]
    },
    {
      "cell_type": "markdown",
      "metadata": {
        "id": "ynAS8zAtYgcC",
        "colab_type": "text"
      },
      "source": [
        "#### String indexes\n",
        "Strings are stored and indexed from [0]\n",
        "You can slice a string using `[start:stop:stepover]`\n",
        "  stepover is defaulted to one\n",
        "\n",
        "Strings are immutable. You can not change an indexed part of the string. The only way to change a string is to wholly reassign the variable."
      ]
    },
    {
      "cell_type": "code",
      "metadata": {
        "id": "HLMgBF1MZFUS",
        "colab_type": "code",
        "colab": {
          "base_uri": "https://localhost:8080/"
        },
        "outputId": "a9d32c92-b131-447a-e6c3-97f472251d30"
      },
      "source": [
        "selfish = '01234567'\n",
        "          #01234567\n",
        "print(selfish)\n",
        "print(selfish[6])\n",
        "\n",
        "#start/stop\n",
        "print(selfish[0:6])\n",
        "\n",
        "#stepover\n",
        "print(selfish[1:])\n",
        "print(selfish[:5])\n",
        "print(selfish[-1::]) # start at end of string\n",
        "print(selfish[::-1]) # reverse the string"
      ],
      "execution_count": null,
      "outputs": [
        {
          "output_type": "stream",
          "text": [
            "01234567\n",
            "6\n",
            "012345\n",
            "1234567\n",
            "01234\n",
            "7\n",
            "76543210\n"
          ],
          "name": "stdout"
        }
      ]
    },
    {
      "cell_type": "markdown",
      "metadata": {
        "id": "suYcd7QpZUek",
        "colab_type": "text"
      },
      "source": [
        "String indexes exercise here: https://repl.it/@aneagoie/string-indexes#main.py\n",
        "\n"
      ]
    },
    {
      "cell_type": "code",
      "metadata": {
        "id": "xD7Qo9SRacJY",
        "colab_type": "code",
        "colab": {
          "base_uri": "https://localhost:8080/"
        },
        "outputId": "b7698773-27d7-41aa-fef3-f7dbd12b9143"
      },
      "source": [
        "#Guess the output of each print statement before you click RUN!\n",
        "python = 'I am PYHTON'\n",
        "\n",
        "print(python[1:4])\n",
        "#print(\" am \")\n",
        "print(python[1:])\n",
        "#print(' am PYHTON')\n",
        "print(python[:])\n",
        "#print('I am PYHTON')\n",
        "print(python[1:100])\n",
        "#print(' am PYHTON')\n",
        "print(python[-1])\n",
        "#print(\"N\")\n",
        "print(python[-4])\n",
        "#print(\"H\")\n",
        "print(python[:-3])\n",
        "#print('I am PYH')\n",
        "print(python[-3:])\n",
        "#print('TON')\n",
        "print(python[::-1])\n",
        "#print('NOTHYP MA I')"
      ],
      "execution_count": null,
      "outputs": [
        {
          "output_type": "stream",
          "text": [
            " am\n",
            " am PYHTON\n",
            "I am PYHTON\n",
            " am PYHTON\n",
            "N\n",
            "H\n",
            "I am PYH\n",
            "TON\n",
            "NOTHYP ma I\n"
          ],
          "name": "stdout"
        }
      ]
    },
    {
      "cell_type": "markdown",
      "metadata": {
        "id": "NzuwCWERazAE",
        "colab_type": "text"
      },
      "source": [
        "#### Built in functions and methods\n",
        "\n",
        "There are built in functions for Strings\n",
        "\n",
        "`len()` is quite usefull as it counts, like a human does, the length of the string\n",
        "\n",
        "There are also methods which can be used:\n",
        "* `.f` is a useful method for formatting everything for a sting\n",
        "* `.upper()` is used to create all uppercase\n",
        "* `.capitalize` capitalizes the first letter\n",
        "* `.find()` finds the index of the first occurance you are looking for\n",
        "* `.replace(old, new)` replaces all the occurances of old with new\n",
        "\n",
        "remember that strings are immutable. the methods will not replace the string unless it is assigned to a variable"
      ]
    },
    {
      "cell_type": "code",
      "metadata": {
        "id": "y9Tzkg1XajuK",
        "colab_type": "code",
        "colab": {
          "base_uri": "https://localhost:8080/"
        },
        "outputId": "c967eabd-7182-4ff9-a8be-035f01f511f5"
      },
      "source": [
        "greet = 'hellllooo'\n",
        "print(len(greet))\n",
        "print(greet[0:len(greet)])\n",
        "\n",
        "\n",
        "#methods\n",
        "quote = 'to be or not to be'\n",
        "print(quote.upper())\n",
        "print(quote.capitalize())\n",
        "print(quote.find('be'))\n",
        "print(quote.replace('be', 'me'))\n",
        "print(quote)"
      ],
      "execution_count": null,
      "outputs": [
        {
          "output_type": "stream",
          "text": [
            "9\n",
            "hellllooo\n",
            "TO BE OR NOT TO BE\n",
            "To be or not to be\n",
            "3\n",
            "to me or not to me\n",
            "to be or not to be\n"
          ],
          "name": "stdout"
        }
      ]
    },
    {
      "cell_type": "markdown",
      "metadata": {
        "id": "fbm_IbSzcf56",
        "colab_type": "text"
      },
      "source": [
        "### bool\n",
        "\n",
        "booleans can be either `True` or `False` (`1` or `0`)\n",
        "They are useful for logical operations\n",
        "\n"
      ]
    },
    {
      "cell_type": "code",
      "metadata": {
        "id": "V95B2THzeDD-",
        "colab_type": "code",
        "colab": {
          "base_uri": "https://localhost:8080/"
        },
        "outputId": "0b2c2b3c-4916-4c98-b0ad-fb63bd17b8db"
      },
      "source": [
        "name = \"James\"\n",
        "is_cool = False\n",
        "\n",
        "is_cool = True\n",
        "\n",
        "print(bool(0))\n",
        "print(bool(1))\n",
        "print(bool(2))"
      ],
      "execution_count": null,
      "outputs": [
        {
          "output_type": "stream",
          "text": [
            "False\n",
            "True\n",
            "True\n"
          ],
          "name": "stdout"
        }
      ]
    },
    {
      "cell_type": "markdown",
      "metadata": {
        "id": "SDgIQ8kteTzt",
        "colab_type": "text"
      },
      "source": [
        "Exercise: type conversion"
      ]
    },
    {
      "cell_type": "code",
      "metadata": {
        "id": "XNjCDs4fetXH",
        "colab_type": "code",
        "colab": {}
      },
      "source": [
        "#how does a SM work?\n",
        "name = 'James'\n",
        "age = 30\n",
        "relationship_status = 'single'\n",
        "print(relationship_status)\n",
        "#but james gets in a complicated thing\n",
        "relationship_status = 'It\\'s complicated'\n",
        "print(relationship_status)\n",
        "\n",
        "#CALCULATE AGE BY ASKING FOR BIRTH YEAR\n",
        "\n",
        "birth_year = input('what year were you born?')\n",
        "age = 2020 - int(birth_year)\n",
        "print(f\"You're age is {age}\")"
      ],
      "execution_count": null,
      "outputs": []
    },
    {
      "cell_type": "markdown",
      "metadata": {
        "id": "C24vpQWGe_-Y",
        "colab_type": "text"
      },
      "source": [
        "### PASSWORD CHECKER EXERCISE\n",
        "\n",
        "We are goign to build a password checker that asks for a username and password and responds with the password length, hiding the password using stars."
      ]
    },
    {
      "cell_type": "code",
      "metadata": {
        "id": "mzEVY_pjgc3S",
        "colab_type": "code",
        "colab": {}
      },
      "source": [
        "username = input('What is your username: ')\n",
        "password = input('What is your password: ')\n",
        "hidden_password = '*' * len(password)\n",
        "password_length = len(password)\n",
        "\n",
        "\n",
        "print(f'Hello {username}, your password {hidden_password} is {password_length} characters long')"
      ],
      "execution_count": null,
      "outputs": []
    },
    {
      "cell_type": "markdown",
      "metadata": {
        "id": "sUqSn8eEgl8U",
        "colab_type": "text"
      },
      "source": [
        "### Lists\n",
        "\n",
        "Lists are denoted by square brackets `[]`\n",
        "\n",
        "Lists are a datastructure which uses arrays to store lists of independent values. Lists can hold a mix of data types\n",
        "\n",
        "Because lists are indexed you can see "
      ]
    },
    {
      "cell_type": "code",
      "metadata": {
        "id": "IO-DgVMVh7yl",
        "colab_type": "code",
        "colab": {}
      },
      "source": [
        "li = [1,2,3,4,5]\n",
        "li2 = ['a', 'b', 'c', 'd', 'e']\n",
        "li3 = [1,2,'a',True]\n",
        "\n",
        "amazon_cart = ['notebooks', 'sunglasses']\n",
        "print(amazon_cart[0])\n",
        "print(amazon_cart[1])"
      ],
      "execution_count": null,
      "outputs": []
    },
    {
      "cell_type": "markdown",
      "metadata": {
        "id": "9AIp6oNRidnU",
        "colab_type": "text"
      },
      "source": [
        "List Slicing"
      ]
    },
    {
      "cell_type": "code",
      "metadata": {
        "id": "pS1UkefUn9vp",
        "colab_type": "code",
        "colab": {}
      },
      "source": [
        "amazon_cart = [\"notebooks\",\n",
        "               \"sun glasses\",\n",
        "               \"toys\",\n",
        "               \"grapes\"]\n",
        "print(amazon_cart[0:2])\n",
        "amazon_cart[0] = \"laptop\"\n",
        "print(amazon_cart)\n",
        "print(amazon_cart[1:3])\n",
        "print(amazon_cart) #list splicing is temporary unless assigned to a new list\n",
        "new_cart = amazon_cart #modifys the list\n",
        "new_cart[0] = 'gum' \n",
        "print(new_cart)\n",
        "print(amazon_cart) #why did the amazon cart get changed? Because new cart = amazon cart we are saying \"new cart is whatever amazon_cart is\" if we change new cart then amazon cart also changes!\n",
        "\n",
        "amazon_cart[0] = 'laptop'\n",
        "new_cart = amazon_cart[:] #this actually copies the list\n",
        "new_cart[0] = \"gum\"\n",
        "print( amazon_cart)\n",
        "print(new_cart)\n"
      ],
      "execution_count": null,
      "outputs": []
    },
    {
      "cell_type": "markdown",
      "metadata": {
        "id": "sLBRegHoomiY",
        "colab_type": "text"
      },
      "source": [
        "List exercise from https://repl.it/@aneagoie/lists"
      ]
    },
    {
      "cell_type": "code",
      "metadata": {
        "id": "XXGoqLMBpq2a",
        "colab_type": "code",
        "colab": {}
      },
      "source": [
        "#What is the output of this code?\n",
        "#Before you clikc RUN, guess the output of each print statement!\n",
        "new_list = ['a', 'b', 'c']\n",
        "print(new_list[1]) #'b'\n",
        "print(new_list[-2]) #'b'\n",
        "print(new_list[1:3])#bc\n",
        "new_list[0] = 'z'\n",
        "print(new_list) #z,b,c\n",
        "\n",
        "my_list = [1,2,3]\n",
        "bonus = my_list + [5]\n",
        "my_list[0] = 'z'\n",
        "print(my_list) #z23\n",
        "print(bonus) #z235"
      ],
      "execution_count": null,
      "outputs": []
    },
    {
      "cell_type": "markdown",
      "metadata": {
        "id": "78zISKdlp9Wh",
        "colab_type": "text"
      },
      "source": [
        "#### Matrix\n",
        "\n",
        "Simply put a matrix is an array of array\n",
        "`[[]]`\n",
        "\n",
        "for example photos are often multiple dimensional arrays. Each pixel is an array with multiple variables, at least one for each color.\n"
      ]
    },
    {
      "cell_type": "code",
      "metadata": {
        "id": "LAumlapXqHzW",
        "colab_type": "code",
        "colab": {}
      },
      "source": [
        "matrix = [\n",
        "          [1,2,3],\n",
        "          [4,5,6],\n",
        "          [7,8,9]\n",
        "]\n",
        "\n",
        "print(matrix[0][1])\n",
        "    #acces the first item/array, then access the second item of that first array"
      ],
      "execution_count": null,
      "outputs": []
    },
    {
      "cell_type": "markdown",
      "metadata": {
        "id": "WG7wL1FztPov",
        "colab_type": "text"
      },
      "source": [
        "Matrix ecercise"
      ]
    },
    {
      "cell_type": "code",
      "metadata": {
        "id": "Hbw-LFG_tOmD",
        "colab_type": "code",
        "colab": {}
      },
      "source": [
        "# using this list: \n",
        "basket = [\"Banana\", [\"Apples\", [\"Oranges\"], \"Blueberries\"]];\n",
        "# access \"Oranges\" and print it:\n",
        "# You will find the answer if you scroll down to the bottom, but attempt it yourself first!\n",
        "\n",
        "print(basket[1][1][0])"
      ],
      "execution_count": null,
      "outputs": []
    },
    {
      "cell_type": "markdown",
      "metadata": {
        "id": "DMJiTajWqt6t",
        "colab_type": "text"
      },
      "source": [
        "#### Built in methods\n",
        "\n",
        "remember that you can use built in functions using `.function()`"
      ]
    },
    {
      "cell_type": "code",
      "metadata": {
        "id": "Simq-kx9rNDi",
        "colab_type": "code",
        "colab": {}
      },
      "source": [
        "basket = [1,2,3,4,5]\n",
        "new_list = []\n",
        "#adding\n",
        "new_list = basket.append(100)\n",
        "print(basket)\n",
        "print(new_list) # seems backwards, but .append only works inplace\n",
        "# to actually add 100 to the end of new list we need to:\n",
        "\n",
        "basket = [1,2,3,4,5]\n",
        "new_list = []\n",
        "basket.append(100)\n",
        "new_list=basket\n",
        "print(basket)\n",
        "print(new_list)\n",
        "\n",
        "basket = [1,2,3,4,5]\n",
        "new_list = []\n",
        "basket.insert(4,100)\n",
        "new_list=basket\n",
        "print(basket)\n",
        "print(new_list)\n",
        "\n",
        "basket = [1,2,3,4,5]\n",
        "new_list = []\n",
        "new_list=basket.extend([100,101])\n",
        "print(basket)\n",
        "print(new_list)\n",
        "\n",
        "#removing\n",
        "basket.pop()\n",
        "print(basket)\n",
        "basket.pop(0)\n",
        "print(basket)\n",
        "\n",
        "basket = [1,2,3,4,5]\n",
        "basket.remove(4) #remove works in place\n",
        "new_list\n",
        "print(basket)\n",
        "print(new_list)"
      ],
      "execution_count": null,
      "outputs": []
    },
    {
      "cell_type": "markdown",
      "metadata": {
        "id": "RLUKT6l7VxY3",
        "colab_type": "text"
      },
      "source": [
        "Exercise: list methods\n",
        "\n",
        "From: https://repl.it/@aneagoie/lists-2#main.py"
      ]
    },
    {
      "cell_type": "code",
      "metadata": {
        "id": "s5PadVAZVxFY",
        "colab_type": "code",
        "colab": {}
      },
      "source": [
        "# using this list, \n",
        "basket = [\"Banana\", \"Apples\", \"Oranges\", \"Blueberries\"];\n",
        "\n",
        "# 1. Remove the Banana from the list\n",
        "basket.remove(\"Banana\")\n",
        "# 2. Remove \"Blueberries\" from the list.\n",
        "basket.pop()\n",
        "# 3. Put \"Kiwi\" at the end of the list.\n",
        "basket.append(\"Kiwi\")\n",
        "# 4. Add \"Apples\" at the beginning of the list\n",
        "basket.insert(0,\"Apples\")\n",
        "# 5. Count how many apples in the basket\n",
        "basket.count(\"Apples\")\n",
        "# 6. empty the basket\n",
        "basket.clear()\n",
        "print(basket)\n"
      ],
      "execution_count": null,
      "outputs": []
    },
    {
      "cell_type": "code",
      "metadata": {
        "id": "bkS7cNlerYna",
        "colab_type": "code",
        "colab": {}
      },
      "source": [
        "basket = ['a', 'x', 'b', 'c', 'd', 'e', 'd']\n",
        "print(basket.count('d')) #counts all the occurences of whatever you fill in\n",
        "basket.sort() #sorts the list in place\n",
        "print(basket)\n",
        "basket = ['a', 'x', 'b', 'c', 'd', 'e', 'd']\n",
        "print(sorted(basket)) #creates new copy of basket and sorts that in place\n",
        "print(basket)\n",
        "basket = ['a', 'x', 'b', 'c', 'd', 'e', 'd']\n",
        "new_basket = basket.copy()\n",
        "new_basket.sort()\n",
        "print(new_basket)\n",
        "print(basket)\n",
        "basket = ['a', 'x', 'b', 'c', 'd', 'e', 'd']\n",
        "basket.sort()\n",
        "basket.reverse()\n",
        "print(basket)"
      ],
      "execution_count": null,
      "outputs": []
    },
    {
      "cell_type": "markdown",
      "metadata": {
        "id": "6XRjWrcXWkfJ",
        "colab_type": "text"
      },
      "source": [
        "Excercise: Lists 3\n",
        "from: https://repl.it/@aneagoie/lists-3#main.py\n"
      ]
    },
    {
      "cell_type": "code",
      "metadata": {
        "id": "W0HhfoWxYhbw",
        "colab_type": "code",
        "colab": {}
      },
      "source": [
        "#fix this code so that it prints a sorted list of all of our friends (alphabetical). Scroll to see answer\n",
        "friends = ['Simon', 'Patty', 'Joy', 'Carrie', 'Amira', 'Chu']\n",
        "new_friend = ['Stanley']\n",
        "#print(friends.sort() + new_friend) original code\n",
        "\n",
        "print(sorted(friends + new_friend)) #fixed"
      ],
      "execution_count": null,
      "outputs": []
    },
    {
      "cell_type": "code",
      "metadata": {
        "id": "dHtM-LA4YsK0",
        "colab_type": "code",
        "colab": {}
      },
      "source": [
        "basket = ['a', 'x', 'b', 'c', 'd', 'e', 'd']\n",
        "basket.sort() #sorted baket a->z\n",
        "basket.reverse() #reverses z->a\n",
        "print(basket[::-1]) #prints normal with list slicing\n",
        "print(basket)\n",
        "\n",
        "print(\"range\")\n",
        "basket = ['a', 'x', 'b', 'c', 'd', 'e', 'd']\n",
        "basket.sort() #sorted baket a->z\n",
        "basket.reverse() #reverses z->a\n",
        "print(range(1,100))\n",
        "print(list(range(1,100)))\n",
        "print(list(range(100)))\n",
        "\n",
        "print(\"join\")\n",
        "sentence=\"!\"\n",
        "sentence.join(['hi', 'my', 'name', 'is', 'JoJo'])\n",
        "print(sentence)\n",
        "new_sentence = sentence.join(['hi', 'my', 'name', 'is', 'JoJo']) #join uses whatever it modifies to fit between the list items\n",
        "print(new_sentence)\n",
        "final_sentence = ' '.join(['hi', 'my', 'name', 'is', 'JoJo'])\n",
        "print(final_sentence)"
      ],
      "execution_count": null,
      "outputs": []
    },
    {
      "cell_type": "markdown",
      "metadata": {
        "id": "i8cHADoMZgF1",
        "colab_type": "text"
      },
      "source": [
        "#### List unpacking"
      ]
    },
    {
      "cell_type": "code",
      "metadata": {
        "id": "DcX2yETWZvYc",
        "colab_type": "code",
        "colab": {}
      },
      "source": [
        "a, b, c =[1,2,3]\n",
        "print(a)\n",
        "print(b)\n",
        "print(c)\n",
        "\n",
        "a, b, c, *other, d =[1,2,3,4,5,6,7,8,9]\n",
        "print(a)\n",
        "print(b)\n",
        "print(c)\n",
        "print(other)\n",
        "print(d)"
      ],
      "execution_count": null,
      "outputs": []
    },
    {
      "cell_type": "markdown",
      "metadata": {
        "id": "tsZiRBYCbfA1",
        "colab_type": "text"
      },
      "source": [
        "### None\n",
        "\n",
        "None is a special data type which represents the absense of value"
      ]
    },
    {
      "cell_type": "code",
      "metadata": {
        "id": "0sw1JxEgbmko",
        "colab_type": "code",
        "colab": {}
      },
      "source": [
        "#imagine a video game\n",
        "weapons = None\n",
        "print(weapons)"
      ],
      "execution_count": null,
      "outputs": []
    },
    {
      "cell_type": "markdown",
      "metadata": {
        "id": "h4K32ti7bykF",
        "colab_type": "text"
      },
      "source": [
        "### DICT\n",
        "A dictionary is a data type and a data structure using the form `key: value` which is unordered in memory. This is unlike lists, which are ordered in memory"
      ]
    },
    {
      "cell_type": "code",
      "metadata": {
        "id": "l3kzXIOrb_N0",
        "colab_type": "code",
        "colab": {}
      },
      "source": [
        "dictionary = {\n",
        "    'a': [1,2,3],\n",
        "    'b': \"Hello\",\n",
        "    'x': True,\n",
        "    'z': 555\n",
        "}\n",
        "\n",
        "print(dictionary['a'])\n",
        "print(dictionary)\n",
        "\n",
        "my_list = [{\n",
        "    'a': [1,2,3],\n",
        "    'b': \"Hello\",\n",
        "    'x': True,\n",
        "    'z': 5550\n",
        "},\n",
        "{\n",
        "    'a': [4,5,6],\n",
        "    'b': \"goodbye\",\n",
        "    'x': False,\n",
        "    'z': 666\n",
        "}]\n",
        "\n",
        "print(my_list)"
      ],
      "execution_count": null,
      "outputs": []
    },
    {
      "cell_type": "code",
      "metadata": {
        "id": "qKJYdRuucSVX",
        "colab_type": "code",
        "colab": {}
      },
      "source": [
        "#Dictionary keys must be immutable. They must also be unique. repreated keys will be overwriten\n",
        "dictionary = {\n",
        "    123: [1,2,3],\n",
        "    True: \"Hello\",\n",
        "    'is_magic': True,\n",
        "    'gold': 555,\n",
        "    'gold': 666\n",
        "}\n",
        "\n",
        "print(dictionary[123])\n",
        "print(dictionary[True])\n",
        "print(dictionary['gold'])"
      ],
      "execution_count": null,
      "outputs": []
    },
    {
      "cell_type": "code",
      "metadata": {
        "id": "tInY-zAfde1r",
        "colab_type": "code",
        "colab": {}
      },
      "source": [
        "#dictionary methods\n",
        "user = {\n",
        "    'basket': [1,2,3],\n",
        "    'greet': \"hello\"\n",
        "}\n",
        "\n",
        "#print(user['age']) will not work because 'age' does not exist in dictioary\n",
        "print(user.get('age')) #will work because .get sees if it exists\n",
        "print(user.get('age',55)) #incase 'age' doesnt exits use 55\n",
        "user2 = dict(name=\"JohnJohn\")\n",
        "print(user2)"
      ],
      "execution_count": null,
      "outputs": []
    },
    {
      "cell_type": "code",
      "metadata": {
        "id": "pJ-1BTNwedcF",
        "colab_type": "code",
        "colab": {}
      },
      "source": [
        "#Dictionary methods 2\n",
        "user = {\n",
        "    'basket': [1,2,3],\n",
        "    'greet': \"hello\",\n",
        "    'age': 20\n",
        "}\n",
        "\n",
        "print('basket' in user)\n",
        "print(\"size\" in user)\n",
        "\n",
        "print('age' in user.keys())\n",
        "print('hello' in user.values())\n",
        "print(user.items())\n",
        "\n",
        "user2=user.copy()\n",
        "\n",
        "\n",
        "print(user.update({'age':55}))\n",
        "print(user)\n",
        "\n",
        "print(user.pop('age'))\n",
        "print(user)\n",
        "\n",
        "print(user.popitem())\n",
        "print(user) #randomly pops an item off (from the end of the dict but dicts can be out of entered order)\n",
        "\n",
        "\n",
        "print(user.clear())\n",
        "user.clear()\n",
        "print(user)\n",
        "print(user2)"
      ],
      "execution_count": null,
      "outputs": []
    },
    {
      "cell_type": "markdown",
      "metadata": {
        "id": "i7lci8T4gtYx",
        "colab_type": "text"
      },
      "source": [
        "Exercise: Dictionaries\n",
        "from: https://repl.it/@aneagoie/dictionary#main.py"
      ]
    },
    {
      "cell_type": "code",
      "metadata": {
        "id": "CQJtMrrxiYao",
        "colab_type": "code",
        "colab": {}
      },
      "source": [
        "#1 Create a user profile for your new game. This user profile will be stored in a dictionary with keys: 'age', 'username', 'weapons', 'is_active' and 'clan'\n",
        "user = {\n",
        "    'age': 30,\n",
        "    'username': 'fragathor',\n",
        "    'weapons': [\"pistol\", \"rifle\"],\n",
        "    \"is_active\": True,\n",
        "    \"clan\": \"Fragging Perfect\"\n",
        "}\n",
        "#2 iterate and print all the keys in the above user.\n",
        "print(user.keys())\n",
        "\n",
        "#3 Add a new weapon to your user\n",
        "user['weapons'].append('Katana')\n",
        "print(user['weapons'])\n",
        "#4 Add a new key to include 'is_banned'. Set it to false\n",
        "user.update({'is_banned':False})\n",
        "print(user)\n",
        "#5 Ban the user by setting the previous key to True\n",
        "user.update({'is_banned':True})\n",
        "print(f\"user is banned: {user['is_banned']}\")\n",
        "#6 create a new user2 my copying the previous user and update the age value and username value. \n",
        "user2 = user.copy()\n",
        "user2.update({\n",
        "    'age':22,\n",
        "    \"username\":\"Fragzilla\"\n",
        "})\n",
        "\n",
        "print(user)\n",
        "print(user2)"
      ],
      "execution_count": null,
      "outputs": []
    },
    {
      "cell_type": "markdown",
      "metadata": {
        "id": "T4a5wpuJjAXN",
        "colab_type": "text"
      },
      "source": [
        "### Tuple\n",
        "\n",
        "Tuples are immutable lists.\n",
        "It makes code safer, because it can't be changed. But its also less versitile.\n",
        "Use it when you need a list that can't be changed, such as pickup location (just create new tuple for new pickup)\n",
        "\n",
        "\n",
        "\n",
        "*note* `key, value` in a dictionary is a tuple pair "
      ]
    },
    {
      "cell_type": "code",
      "metadata": {
        "id": "rtO2FxN5kmZ8",
        "colab_type": "code",
        "colab": {}
      },
      "source": [
        "my_tuple = (1,2,3,4,5)\n",
        "#my_tuple[1] = 'z' would error out because tupples cant be changed\n",
        "print(my_tuple[1])\n",
        "print(5 in my_tuple)"
      ],
      "execution_count": null,
      "outputs": []
    },
    {
      "cell_type": "code",
      "metadata": {
        "id": "TWCaR_ick2cH",
        "colab_type": "code",
        "colab": {}
      },
      "source": [
        "my_tuple = (1,2,3,4,5,5)\n",
        "new_tuple = my_tuple[1:4]\n",
        "print(new_tuple)\n",
        "\n",
        "x = my_tuple[0]\n",
        "y = my_tuple[1]\n",
        "print(x,y)\n",
        "\n",
        "x, y, z, *other = (1,2,3,4,5)\n",
        "print(other)\n",
        "\n",
        "#tuples have only really important methods\n",
        "#count\n",
        "print(my_tuple.count(2))\n",
        "#index\n",
        "print(my_tuple.index(5))\n",
        "\n",
        "len(my_tuple)"
      ],
      "execution_count": null,
      "outputs": []
    },
    {
      "cell_type": "markdown",
      "metadata": {
        "id": "tjYlhse1lok_",
        "colab_type": "text"
      },
      "source": [
        "### Set\n",
        "Sets: unorder collections of unique objects"
      ]
    },
    {
      "cell_type": "code",
      "metadata": {
        "id": "qG6y8YCymeBG",
        "colab_type": "code",
        "colab": {}
      },
      "source": [
        "my_set = {1,2,3,4,5,5}\n",
        "print(my_set) #only returns unique values\n",
        "my_set.add(100)\n",
        "my_set.add(2)\n",
        "print(my_set)\n",
        "\n",
        "#How would you convert the following into a uniquue list\n",
        "my_list = [1,2,3,4,5,5]\n",
        "#answer\n",
        "my_set = set(my_list)\n",
        "print(my_set)\n",
        "\n",
        "my_set = {1,2,3,4,5,5}\n",
        "#print(my_set[0]) will error. Must reference item not index\n",
        "print(1 in my_set)\n",
        "print(len(my_set))\n",
        "\n",
        "print(list(my_set))\n",
        "\n",
        "my_set = {1,2,3,4,5,5}\n",
        "new_set = my_set.copy()\n",
        "my_set.clear()\n",
        "print(list(new_set))\n",
        "print(new_set)\n",
        "print(my_set)"
      ],
      "execution_count": null,
      "outputs": []
    },
    {
      "cell_type": "code",
      "metadata": {
        "id": "sgAhuXvJmlXx",
        "colab_type": "code",
        "colab": {}
      },
      "source": [
        "#Set Methods\n",
        "my_set = {1,2,3,4,5}\n",
        "your_set = {4,5,6,7,8,9,10}\n",
        "\n",
        "# .difference() #tells you the difference\n",
        "print(f'difference: {my_set.difference(your_set)}')\n",
        "# .discard()\n",
        "print(f'discard: {my_set.discard(5)}')\n",
        "print(my_set)\n",
        "\n",
        "my_set = {1,2,3,4,5} #refreshes my_set\n",
        "\n",
        "# .difference_update() removes the common items from the set\n",
        "print(f'difference_update: {my_set.difference_update(your_set)}')\n",
        "print(my_set)\n",
        "my_set = {1,2,3,4,5}\n",
        "\n",
        "# .intersection()\n",
        "print(f'intersection: {my_set.intersection(your_set)}')\n",
        "\n",
        "# .isdisjoint() #Are the two sets disjointed ie no overlaps\n",
        "print(f'isdisjoint: {my_set.isdisjoint(your_set)}')\n",
        "\n",
        "# .union()\n",
        "print(f'union: {my_set.union(your_set)}')\n",
        "print(my_set | your_set)\n",
        "print(f'myset: {my_set}')\n",
        "# .issubset()\n",
        "my_set = {4,5}\n",
        "print(f'my_set: {my_set}')\n",
        "print(f'your set {your_set}')\n",
        "print(f'issubset: {my_set.issubset(your_set)}')\n",
        "\n",
        "# .issuperset()\n",
        "print(f'superset: {your_set.issuperset(my_set)}')\n"
      ],
      "execution_count": null,
      "outputs": []
    },
    {
      "cell_type": "markdown",
      "metadata": {
        "id": "8fgzekjKpH1u",
        "colab_type": "text"
      },
      "source": [
        "Exercise: Sets\n",
        "https://repl.it/@aneagoie/sets#main.py"
      ]
    },
    {
      "cell_type": "code",
      "metadata": {
        "id": "9hz94sLErJ-m",
        "colab_type": "code",
        "colab": {}
      },
      "source": [
        "#Scroll to bottom to see solution\n",
        "# You are working for the school Principal. We have a database of school students:\n",
        "school = {'Bobby','Tammy','Jammy','Sally','Danny'}\n",
        "\n",
        "#during class, the teachers take attendance and compile it into a list. \n",
        "attendance_list = ['Jammy', 'Bobby', 'Danny', 'Sally']\n",
        "\n",
        "#using what you learned about sets, create a piece of code that the school principal can use to immediately find out who missed class so they can call the parents. (Imagine if the list had 1000s of students. The principal can use the lists generated by the teachers + the school database to use python and make his/her job easier): Find the students that miss class!\n",
        "\n",
        "print(f'The following student or students are absent {school.difference(attendance_list)}')"
      ],
      "execution_count": null,
      "outputs": []
    },
    {
      "cell_type": "markdown",
      "metadata": {
        "id": "CT1fVjIzrj_T",
        "colab_type": "text"
      },
      "source": [
        "## Conditional Logic\n",
        "\n",
        "conditional logic allows us to check if a condition is met, do something, otherwise, something else\n",
        "\n",
        "Make sure you pay attention to spacing and indentation"
      ]
    },
    {
      "cell_type": "code",
      "metadata": {
        "id": "XUvlY6JgsbJG",
        "colab_type": "code",
        "colab": {}
      },
      "source": [
        "is_old = False\n",
        "is_licenced = False\n",
        "\n",
        "if is_old: #if is_old true?\n",
        "  print('You are old enough to drive') #if true do this otherwise skip\n",
        "elif is_licenced:\n",
        "  print(\"how do you have a license\")\n",
        "else:\n",
        "  print('You are not old. Grow some') #only runs of the if evaluates false\n",
        "\n",
        "print('check check') #runs regardless because not part of if/else\n",
        "\n",
        "\n",
        "#a better way for this program\n",
        "if is_old and is_licenced:\n",
        "  print(\"you are old enough to drive and licensed. have fun\")\n",
        "else:\n",
        "  print('you can\\'t drive')\n"
      ],
      "execution_count": null,
      "outputs": []
    },
    {
      "cell_type": "markdown",
      "metadata": {
        "id": "Ngv91tQhuilr",
        "colab_type": "text"
      },
      "source": [
        "### Truthy and Falsey\n",
        "\n",
        "for conditional statements:\n",
        "Truthy values are those for which `bool(value)` returns `True`\n",
        "Falsey values are thos for which `bool(value)` returns `False`\n",
        "\n"
      ]
    },
    {
      "cell_type": "code",
      "metadata": {
        "id": "hGsBZjbpvKD-",
        "colab_type": "code",
        "colab": {}
      },
      "source": [
        "is_old = 'hello'\n",
        "is_licenced = 5\n",
        "\n",
        "if is_old and is_licenced:\n",
        "  print(\"you are old enough to drive and licensed. have fun\")\n",
        "else:\n",
        "  print('you can\\'t drive')\n",
        "\n",
        "  password = '123'\n",
        "  username = 'johnny'\n",
        "\n",
        "  if password and username:\n",
        "    #try to log in code.......\n",
        "    pass"
      ],
      "execution_count": null,
      "outputs": []
    },
    {
      "cell_type": "markdown",
      "metadata": {
        "id": "aGcRv1TbvwKz",
        "colab_type": "text"
      },
      "source": [
        "###Ternary operator\n",
        "Also called condtional expressions\n",
        "\n",
        "condition_if_true if condition else condition_if_false\n"
      ]
    },
    {
      "cell_type": "code",
      "metadata": {
        "id": "3L3qfLifwJ-q",
        "colab_type": "code",
        "colab": {}
      },
      "source": [
        "is_friend = True\n",
        "\n",
        "can_message = \"Message allowed\" if is_friend else \"not allowed to message\"\n",
        "print(can_message)"
      ],
      "execution_count": null,
      "outputs": []
    },
    {
      "cell_type": "markdown",
      "metadata": {
        "id": "_8EWDKOBwd_u",
        "colab_type": "text"
      },
      "source": [
        "### Short Circuiting\n",
        "\n",
        "When a condition fails or is met python stops evaluating the rest. Useful for optimizing efficiency."
      ]
    },
    {
      "cell_type": "code",
      "metadata": {
        "id": "9jGQlzRyww2o",
        "colab_type": "code",
        "colab": {}
      },
      "source": [
        "is_friend = True\n",
        "is_user = True\n",
        "\n",
        "print(is_friend and is_user)\n",
        "\n",
        "if is_friend or is_user: #if either is true\n",
        "  print('BFFs')"
      ],
      "execution_count": null,
      "outputs": []
    },
    {
      "cell_type": "markdown",
      "metadata": {
        "id": "OGOmJ6Zow74P",
        "colab_type": "text"
      },
      "source": [
        "###Logical Operators"
      ]
    },
    {
      "cell_type": "code",
      "metadata": {
        "id": "sW77Wm8FxcvU",
        "colab_type": "code",
        "colab": {}
      },
      "source": [
        "#greater than\n",
        "print(4>5)\n",
        "print(4<5)\n",
        "print(4==5) # == not = because a single means \"assign\"\n",
        "\n",
        "print('a' > 'b')\n",
        "print('a' > 'A')\n",
        "# Why are these true? Because ASCII values!\n",
        "\n",
        "print(1 < 2 < 3 < 4)\n",
        "print(1<2>3<4) #will false and short circut\n",
        "\n",
        "print(1>=0) #greater or equal\n",
        "print(1<=0) #less or equal\n",
        "print(0 != 0) #not equal\n",
        "\n",
        "print(not True) #not returns opposite"
      ],
      "execution_count": null,
      "outputs": []
    },
    {
      "cell_type": "markdown",
      "metadata": {
        "id": "EgU6Q_yDxstl",
        "colab_type": "text"
      },
      "source": [
        "Exercise: logical operators"
      ]
    },
    {
      "cell_type": "code",
      "metadata": {
        "id": "I8tsR3rxy2-q",
        "colab_type": "code",
        "colab": {}
      },
      "source": [
        "is_magician = 0\n",
        "is_expert = 1\n",
        "\n",
        "#check if magician AND expert: you are master magician\n",
        "\n",
        "# if magician but not expert: \"youre getting there\"\n",
        "\n",
        "#if not magician: \"get some magic\"\n",
        "\n",
        "if is_magician and is_expert:\n",
        "  print(\"You are a master magician\")\n",
        "elif is_magician:\n",
        "  print(\"at least you are getting there\")\n",
        "else:\n",
        "  print(\"you need magic powers\")"
      ],
      "execution_count": null,
      "outputs": []
    },
    {
      "cell_type": "markdown",
      "metadata": {
        "id": "Q7Og-Wu-zlMz",
        "colab_type": "text"
      },
      "source": [
        "#### is vs   ==\n",
        "\n",
        "== checks the equality in values\n",
        "is checks if the location in memory is the same. `is` is far stricter\n",
        "\n",
        "look at the code below and guess the outcomes"
      ]
    },
    {
      "cell_type": "code",
      "metadata": {
        "id": "pp1LWzbt03lP",
        "colab_type": "code",
        "colab": {}
      },
      "source": [
        "print(True == 1)\n",
        "print('' == 1)\n",
        "print([] == 1)\n",
        "print(10 == 10.0)\n",
        "print([1,2,3] == [1,2,3])\n",
        "print('is')\n",
        "print(True is 1)\n",
        "print('1' is '1')\n",
        "print([] is [])\n",
        "print(10 is 10.0)\n",
        "print([1,2,3] is []) #every list is stored somewhere in memory"
      ],
      "execution_count": null,
      "outputs": []
    },
    {
      "cell_type": "code",
      "metadata": {
        "id": "DcV3CVuO1HbB",
        "colab_type": "code",
        "colab": {}
      },
      "source": [
        ""
      ],
      "execution_count": null,
      "outputs": []
    }
  ]
}